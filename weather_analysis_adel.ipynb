{
 "cells": [
  {
   "cell_type": "markdown",
   "id": "56bbd60b",
   "metadata": {},
   "source": [
    "# ** Weather Data Analysis **"
   ]
  },
  {
   "cell_type": "markdown",
   "id": "233abb04",
   "metadata": {},
   "source": [
    "## 1. Historische Wetterdaten müssen aus einer CSV-Datei geladen werden"
   ]
  },
  {
   "cell_type": "code",
   "execution_count": 2,
   "id": "4d56cb39",
   "metadata": {},
   "outputs": [
    {
     "name": "stdout",
     "output_type": "stream",
     "text": [
      "daten (erste 5 Zeilen):\n",
      "  station_id city_name       date  season  avg_temp_c  min_temp_c  max_temp_c  \\\n",
      "0      41515  Asadabad 1957-07-01  Summer        27.0        21.1        35.6   \n",
      "1      41515  Asadabad 1957-07-02  Summer        22.8        18.9        32.2   \n",
      "2      41515  Asadabad 1957-07-03  Summer        24.3        16.7        35.6   \n",
      "3      41515  Asadabad 1957-07-04  Summer        26.6        16.1        37.8   \n",
      "4      41515  Asadabad 1957-07-05  Summer        30.8        20.0        41.7   \n",
      "\n",
      "   precipitation_mm  snow_depth_mm  avg_wind_dir_deg  avg_wind_speed_kmh  \\\n",
      "0               0.0            NaN               NaN                 NaN   \n",
      "1               0.0            NaN               NaN                 NaN   \n",
      "2               1.0            NaN               NaN                 NaN   \n",
      "3               4.1            NaN               NaN                 NaN   \n",
      "4               0.0            NaN               NaN                 NaN   \n",
      "\n",
      "   peak_wind_gust_kmh  avg_sea_level_pres_hpa  sunshine_total_min  \n",
      "0                 NaN                     NaN                 NaN  \n",
      "1                 NaN                     NaN                 NaN  \n",
      "2                 NaN                     NaN                 NaN  \n",
      "3                 NaN                     NaN                 NaN  \n",
      "4                 NaN                     NaN                 NaN  \n"
     ]
    }
   ],
   "source": [
    "import pandas as pd\n",
    "import numpy as np\n",
    "\n",
    "\n",
    "#data lesen\n",
    "df = pd.read_parquet(\"daily_weather.parquet\")\n",
    "\n",
    "# daten anzeigen\n",
    "print(\"daten (erste 5 Zeilen):\")\n",
    "print(df.head())"
   ]
  },
  {
   "cell_type": "markdown",
   "id": "45907dfd",
   "metadata": {},
   "source": [
    "## 2. Alle Datumswerte sind korrekt zu interpretieren und zu standardisieren"
   ]
  },
  {
   "cell_type": "code",
   "execution_count": 3,
   "id": "efba3e13",
   "metadata": {},
   "outputs": [],
   "source": [
    "#  Datum standardisieren \n",
    "df['date'] = pd.to_datetime(df['date'], errors='coerce').dt.strftime('%Y-%m-%d')"
   ]
  },
  {
   "cell_type": "code",
   "execution_count": 4,
   "id": "8d709b2e",
   "metadata": {},
   "outputs": [
    {
     "name": "stdout",
     "output_type": "stream",
     "text": [
      "\n",
      "Fehlende Werte pro Spalte:\n",
      "station_id                       0\n",
      "city_name                    13993\n",
      "date                             0\n",
      "season                           0\n",
      "avg_temp_c                 6230907\n",
      "min_temp_c                 5718229\n",
      "max_temp_c                 5539346\n",
      "precipitation_mm           6642500\n",
      "snow_depth_mm             24208615\n",
      "avg_wind_dir_deg          24183195\n",
      "avg_wind_speed_kmh        22350295\n",
      "peak_wind_gust_kmh        26514277\n",
      "avg_sea_level_pres_hpa    23618606\n",
      "sunshine_total_min        26614302\n",
      "dtype: int64\n"
     ]
    }
   ],
   "source": [
    "print(\"\\nFehlende Werte pro Spalte:\")\n",
    "print(df.isnull().sum())"
   ]
  },
  {
   "cell_type": "markdown",
   "id": "a9b6e066",
   "metadata": {},
   "source": [
    "## 3.Fehlende oder fehlerhafte Wetterdaten sollen erkannt und bereinigt werden. "
   ]
  },
  {
   "cell_type": "code",
   "execution_count": 5,
   "id": "50d34adf",
   "metadata": {},
   "outputs": [
    {
     "name": "stdout",
     "output_type": "stream",
     "text": [
      "\n",
      "Fehlerhafte Temperaturwerte:\n",
      "      station_id city_name        date  season  avg_temp_c  min_temp_c  \\\n",
      "5202       38954  Fayzabad  1914-02-28  Winter        -3.3        -3.2   \n",
      "6228       38954  Fayzabad  1916-12-20  Winter        -5.6        -4.5   \n",
      "6229       38954  Fayzabad  1916-12-21  Winter        -6.3        -2.4   \n",
      "6230       38954  Fayzabad  1916-12-22  Winter        -5.9        -1.9   \n",
      "6231       38954  Fayzabad  1916-12-23  Winter        -5.8        -2.1   \n",
      "...          ...       ...         ...     ...         ...         ...   \n",
      "9693       67975  Masvingo  1979-12-04  Summer        19.5        20.6   \n",
      "10330      67975  Masvingo  1981-09-01  Spring        13.4        12.8   \n",
      "10548      67975  Masvingo  1982-04-07  Autumn        29.4        13.4   \n",
      "11114      67975  Masvingo  1983-10-25  Spring        17.4        18.1   \n",
      "12709      67975  Masvingo  1988-03-07  Autumn        19.7        19.9   \n",
      "\n",
      "       max_temp_c  precipitation_mm  snow_depth_mm  avg_wind_dir_deg  \\\n",
      "5202          4.4               0.0            NaN               NaN   \n",
      "6228          NaN               0.0            NaN               NaN   \n",
      "6229          NaN               0.0            NaN               NaN   \n",
      "6230          NaN               0.0            NaN               NaN   \n",
      "6231          NaN               0.0            NaN               NaN   \n",
      "...           ...               ...            ...               ...   \n",
      "9693         22.7              14.0            NaN               NaN   \n",
      "10330        13.2               5.8            NaN               NaN   \n",
      "10548        29.2               0.0            NaN               NaN   \n",
      "11114        18.5               5.7            NaN               NaN   \n",
      "12709        21.3               2.1            NaN               NaN   \n",
      "\n",
      "       avg_wind_speed_kmh  peak_wind_gust_kmh  avg_sea_level_pres_hpa  \\\n",
      "5202                  NaN                 NaN                     NaN   \n",
      "6228                  NaN                 NaN                     NaN   \n",
      "6229                  NaN                 NaN                     NaN   \n",
      "6230                  NaN                 NaN                     NaN   \n",
      "6231                  NaN                 NaN                     NaN   \n",
      "...                   ...                 ...                     ...   \n",
      "9693                  NaN                 NaN                     NaN   \n",
      "10330                 NaN                 NaN                     NaN   \n",
      "10548                 NaN                 NaN                     NaN   \n",
      "11114                 NaN                 NaN                     NaN   \n",
      "12709                 NaN                 NaN                     NaN   \n",
      "\n",
      "       sunshine_total_min  \n",
      "5202                  NaN  \n",
      "6228                  NaN  \n",
      "6229                  NaN  \n",
      "6230                  NaN  \n",
      "6231                  NaN  \n",
      "...                   ...  \n",
      "9693                  NaN  \n",
      "10330                 NaN  \n",
      "10548                 NaN  \n",
      "11114                 NaN  \n",
      "12709                 NaN  \n",
      "\n",
      "[37913 rows x 14 columns]\n",
      "\n",
      "Fehlerhafte Niederschlagswerte:\n",
      "Empty DataFrame\n",
      "Columns: [station_id, city_name, date, season, avg_temp_c, min_temp_c, max_temp_c, precipitation_mm, snow_depth_mm, avg_wind_dir_deg, avg_wind_speed_kmh, peak_wind_gust_kmh, avg_sea_level_pres_hpa, sunshine_total_min]\n",
      "Index: []\n"
     ]
    }
   ],
   "source": [
    "# Fehlerhafte Werte erkennen\n",
    "# Annahmen für Fehler:\n",
    "# - Temperaturen: min_temp_c < -50 oder max_temp_c > 50 sind unrealistisch\n",
    "# - avg_temp_c sollte zwischen min_temp_c und max_temp_c liegen\n",
    "# - Niederschlag: precipitation_mm < 0 ist ungültig\n",
    "temp_errors = df[(df['min_temp_c'] < -50) | (df['max_temp_c'] > 50) | \n",
    "                 (df['avg_temp_c'] < -50) | (df['avg_temp_c'] > 50) |\n",
    "                 (df['avg_temp_c'] < df['min_temp_c']) | (df['avg_temp_c'] > df['max_temp_c'])]\n",
    "precip_errors = df[df['precipitation_mm'] < 0]\n",
    "\n",
    "print(\"\\nFehlerhafte Temperaturwerte:\")\n",
    "print(temp_errors)\n",
    "print(\"\\nFehlerhafte Niederschlagswerte:\")\n",
    "print(precip_errors)"
   ]
  },
  {
   "cell_type": "code",
   "execution_count": 6,
   "id": "8b467065",
   "metadata": {},
   "outputs": [],
   "source": [
    "# Daten bereinigen\n",
    "# Fehlerhafte Werte zu NaN setzen\n",
    "df['avg_temp_c'] = np.where((df['avg_temp_c'] < -50) | (df['avg_temp_c'] > 50) | \n",
    "                            (df['avg_temp_c'] < df['min_temp_c']) | (df['avg_temp_c'] > df['max_temp_c']), \n",
    "                            np.nan, df['avg_temp_c'])\n",
    "df['min_temp_c'] = np.where(df['min_temp_c'] < -50, np.nan, df['min_temp_c'])\n",
    "df['max_temp_c'] = np.where(df['max_temp_c'] > 50, np.nan, df['max_temp_c'])\n",
    "df['precipitation_mm'] = np.where(df['precipitation_mm'] < 0, np.nan, df['precipitation_mm'])\n",
    "\n",
    "# Fehlende Werte interpolieren\n",
    "df['avg_temp_c'] = df['avg_temp_c'].interpolate(method='linear')\n",
    "df['min_temp_c'] = df['min_temp_c'].interpolate(method='linear')\n",
    "df['max_temp_c'] = df['max_temp_c'].interpolate(method='linear')\n",
    "df['precipitation_mm'] = df['precipitation_mm'].interpolate(method='linear')"
   ]
  },
  {
   "cell_type": "code",
   "execution_count": 7,
   "id": "f40ca2fc",
   "metadata": {},
   "outputs": [
    {
     "name": "stdout",
     "output_type": "stream",
     "text": [
      "\n",
      "Bereinigte Daten :\n",
      "  station_id city_name        date  season  avg_temp_c  min_temp_c  \\\n",
      "0      41515  Asadabad  1957-07-01  Summer        27.0        21.1   \n",
      "1      41515  Asadabad  1957-07-02  Summer        22.8        18.9   \n",
      "2      41515  Asadabad  1957-07-03  Summer        24.3        16.7   \n",
      "3      41515  Asadabad  1957-07-04  Summer        26.6        16.1   \n",
      "4      41515  Asadabad  1957-07-05  Summer        30.8        20.0   \n",
      "\n",
      "   max_temp_c  precipitation_mm  snow_depth_mm  avg_wind_dir_deg  \\\n",
      "0        35.6               0.0            NaN               NaN   \n",
      "1        32.2               0.0            NaN               NaN   \n",
      "2        35.6               1.0            NaN               NaN   \n",
      "3        37.8               4.1            NaN               NaN   \n",
      "4        41.7               0.0            NaN               NaN   \n",
      "\n",
      "   avg_wind_speed_kmh  peak_wind_gust_kmh  avg_sea_level_pres_hpa  \\\n",
      "0                 NaN                 NaN                     NaN   \n",
      "1                 NaN                 NaN                     NaN   \n",
      "2                 NaN                 NaN                     NaN   \n",
      "3                 NaN                 NaN                     NaN   \n",
      "4                 NaN                 NaN                     NaN   \n",
      "\n",
      "   sunshine_total_min  \n",
      "0                 NaN  \n",
      "1                 NaN  \n",
      "2                 NaN  \n",
      "3                 NaN  \n",
      "4                 NaN  \n"
     ]
    }
   ],
   "source": [
    "# Bereinigte Daten anzeigen\n",
    "print(\"\\nBereinigte Daten :\")\n",
    "print(df.head())\n"
   ]
  },
  {
   "cell_type": "markdown",
   "id": "9ecf21bb",
   "metadata": {},
   "source": [
    "## 4. Temperaturen ggf. in Celsius (oder andere Einheiten) umrechnen."
   ]
  },
  {
   "cell_type": "code",
   "execution_count": 8,
   "id": "bb197c4b",
   "metadata": {},
   "outputs": [],
   "source": [
    "# Temperaturen ggf. in eine andere Einheit umrechnen\n",
    "# Annahme: Daten sind aktuell in Celsius, Ziel ist z. B. Fahrenheit\n",
    "aktuelle_einheit = \"celsius\"  \n",
    "ziel_einheit = \"fahrenheit\"  \n",
    "\n",
    "# Umrechnungsfunktionen definieren\n",
    "def celsius_zu_fahrenheit(c):\n",
    "    return (c * 9/5) + 32\n",
    "\n",
    "def fahrenheit_zu_celsius(f):\n",
    "    return (f - 32) * 5/9"
   ]
  },
  {
   "cell_type": "code",
   "execution_count": 9,
   "id": "62f4ecb3",
   "metadata": {},
   "outputs": [
    {
     "name": "stdout",
     "output_type": "stream",
     "text": [
      "\n",
      "Temperaturen von celsius nach fahrenheit umgerechnet.\n"
     ]
    }
   ],
   "source": [
    "# Umrechnung durchführen\n",
    "if aktuelle_einheit.lower() != ziel_einheit.lower():\n",
    "    if ziel_einheit.lower() == \"fahrenheit\" and aktuelle_einheit.lower() == \"celsius\":\n",
    "        df['avg_temp_c'] = df['avg_temp_c'].apply(celsius_zu_fahrenheit)\n",
    "        df['min_temp_c'] = df['min_temp_c'].apply(celsius_zu_fahrenheit)\n",
    "        df['max_temp_c'] = df['max_temp_c'].apply(celsius_zu_fahrenheit)\n",
    "        # Spalten umbenennen\n",
    "        #df = df.rename(columns={\n",
    "         #   'avg_temp_c': 'avg_temp_f',\n",
    "         #   'min_temp_c': 'min_temp_f',\n",
    "         #   'max_temp_c': 'max_temp_f'\n",
    "        #})\n",
    "        print(f\"\\nTemperaturen von {aktuelle_einheit} nach {ziel_einheit} umgerechnet.\")\n",
    "    elif ziel_einheit.lower() == \"celsius\" and aktuelle_einheit.lower() == \"fahrenheit\":\n",
    "        df['avg_temp_c'] = df['avg_temp_c'].apply(fahrenheit_zu_celsius)\n",
    "        df['min_temp_c'] = df['min_temp_c'].apply(fahrenheit_zu_celsius)\n",
    "        df['max_temp_c'] = df['max_temp_c'].apply(fahrenheit_zu_celsius)\n",
    "        print(f\"\\nTemperaturen von {aktuelle_einheit} nach {ziel_einheit} umgerechnet.\")\n",
    "    else:\n",
    "        print(\"\\nFehler: Ungültige Einheitenkombination.\")\n",
    "else:\n",
    "    print(f\"\\nKeine Umrechnung nötig, Daten sind bereits in {aktuelle_einheit}.\")"
   ]
  },
  {
   "cell_type": "code",
   "execution_count": 10,
   "id": "1dd53c13",
   "metadata": {},
   "outputs": [
    {
     "name": "stdout",
     "output_type": "stream",
     "text": [
      "\n",
      "Bereinigte und umgerechnete Daten :\n",
      "  station_id city_name        date  season  avg_temp_c  min_temp_c  \\\n",
      "0      41515  Asadabad  1957-07-01  Summer       80.60       69.98   \n",
      "1      41515  Asadabad  1957-07-02  Summer       73.04       66.02   \n",
      "2      41515  Asadabad  1957-07-03  Summer       75.74       62.06   \n",
      "3      41515  Asadabad  1957-07-04  Summer       79.88       60.98   \n",
      "4      41515  Asadabad  1957-07-05  Summer       87.44       68.00   \n",
      "\n",
      "   max_temp_c  precipitation_mm  snow_depth_mm  avg_wind_dir_deg  \\\n",
      "0       96.08               0.0            NaN               NaN   \n",
      "1       89.96               0.0            NaN               NaN   \n",
      "2       96.08               1.0            NaN               NaN   \n",
      "3      100.04               4.1            NaN               NaN   \n",
      "4      107.06               0.0            NaN               NaN   \n",
      "\n",
      "   avg_wind_speed_kmh  peak_wind_gust_kmh  avg_sea_level_pres_hpa  \\\n",
      "0                 NaN                 NaN                     NaN   \n",
      "1                 NaN                 NaN                     NaN   \n",
      "2                 NaN                 NaN                     NaN   \n",
      "3                 NaN                 NaN                     NaN   \n",
      "4                 NaN                 NaN                     NaN   \n",
      "\n",
      "   sunshine_total_min  \n",
      "0                 NaN  \n",
      "1                 NaN  \n",
      "2                 NaN  \n",
      "3                 NaN  \n",
      "4                 NaN  \n"
     ]
    }
   ],
   "source": [
    "print(\"\\nBereinigte und umgerechnete Daten :\")\n",
    "print(df.head())"
   ]
  },
  {
   "cell_type": "markdown",
   "id": "971e7c25",
   "metadata": {},
   "source": [
    "## 5. Berechnung der täglichen Durchschnittstemperaturen."
   ]
  },
  {
   "cell_type": "code",
   "execution_count": 11,
   "id": "a7000405",
   "metadata": {},
   "outputs": [
    {
     "name": "stdout",
     "output_type": "stream",
     "text": [
      "  station_id city_name        date  season  avg_temp_c  min_temp_c  \\\n",
      "0      41515  Asadabad  1957-07-01  Summer       80.60       69.98   \n",
      "1      41515  Asadabad  1957-07-02  Summer       73.04       66.02   \n",
      "2      41515  Asadabad  1957-07-03  Summer       75.74       62.06   \n",
      "3      41515  Asadabad  1957-07-04  Summer       79.88       60.98   \n",
      "4      41515  Asadabad  1957-07-05  Summer       87.44       68.00   \n",
      "\n",
      "   max_temp_c  precipitation_mm  snow_depth_mm  avg_wind_dir_deg  \\\n",
      "0       96.08               0.0            NaN               NaN   \n",
      "1       89.96               0.0            NaN               NaN   \n",
      "2       96.08               1.0            NaN               NaN   \n",
      "3      100.04               4.1            NaN               NaN   \n",
      "4      107.06               0.0            NaN               NaN   \n",
      "\n",
      "   avg_wind_speed_kmh  peak_wind_gust_kmh  avg_sea_level_pres_hpa  \\\n",
      "0                 NaN                 NaN                     NaN   \n",
      "1                 NaN                 NaN                     NaN   \n",
      "2                 NaN                 NaN                     NaN   \n",
      "3                 NaN                 NaN                     NaN   \n",
      "4                 NaN                 NaN                     NaN   \n",
      "\n",
      "   sunshine_total_min  tag_avg_temp_c  \n",
      "0                 NaN           83.03  \n",
      "1                 NaN           77.99  \n",
      "2                 NaN           79.07  \n",
      "3                 NaN           80.51  \n",
      "4                 NaN           87.53  \n"
     ]
    }
   ],
   "source": [
    "#Berechnung der täglichen Durchschnittstemperaturen\n",
    "# Neue Spalte mit Durchschnitt aus min_temp_f und max_temp_f berechnen\n",
    "df['tag_avg_temp_c'] = (df['min_temp_c'] + df['max_temp_c']) / 2\n",
    "\n",
    "print(df.head())"
   ]
  },
  {
   "cell_type": "markdown",
   "id": "1681c082",
   "metadata": {},
   "source": [
    "## 6. Identikation von Maximal- und Minimaltemperaturen.\n"
   ]
  },
  {
   "cell_type": "code",
   "execution_count": 12,
   "id": "c1069e36",
   "metadata": {},
   "outputs": [
    {
     "name": "stdout",
     "output_type": "stream",
     "text": [
      "max_temp : 122.0 fahrenheit\n",
      "min_temp :  -58.0 fahrenheit\n"
     ]
    }
   ],
   "source": [
    "# Identifikation von Maximal- und Minimaltemperaturen\n",
    "global_max_temp = df['max_temp_c'].max()\n",
    "global_min_temp = df['min_temp_c'].min()\n",
    "\n",
    "print (\"max_temp :\", global_max_temp , ziel_einheit )\n",
    "print (\"min_temp : \", global_min_temp ,   ziel_einheit)"
   ]
  },
  {
   "cell_type": "markdown",
   "id": "d63adce0",
   "metadata": {},
   "source": [
    "7. Berechnung von Mittelwert, Median und Standardabweichung für verschiedene Parameter."
   ]
  },
  {
   "cell_type": "markdown",
   "id": "aa20bad9",
   "metadata": {},
   "source": [
    "8.  Analyse und Visualisierung saisonaler Muster (z. B. Sommer vs. Winter).\n"
   ]
  },
  {
   "cell_type": "markdown",
   "id": "98ca1cac",
   "metadata": {},
   "source": [
    "9. Erstellung interaktiver Visualisierungen (z. B. Liniendiagramme zur Temperaturentwicklung)."
   ]
  },
  {
   "cell_type": "markdown",
   "id": "abe0c41a",
   "metadata": {},
   "source": [
    "10. Auswertung von zusätzlichen Wetterparametern wie Niederschlag und Luftfeuchtigkeit9. "
   ]
  },
  {
   "cell_type": "markdown",
   "id": "a18371f9",
   "metadata": {},
   "source": [
    "11. Kombinierte Darstellung mehrerer Wetterparameter in einem Diagramm."
   ]
  },
  {
   "cell_type": "code",
   "execution_count": 14,
   "id": "4d10992c",
   "metadata": {},
   "outputs": [
    {
     "data": {
      "image/png": "[encoded data removed]",
      "text/plain": [
       "<Figure size 1200x600 with 2 Axes>"
      ]
     },
     "metadata": {},
     "output_type": "display_data"
    }
   ],
   "source": [
    "df['year'] = pd.to_datetime(df['date']).dt.year\n",
    "df_yearly = df.groupby('year')[['avg_temp_c', 'precipitation_mm']].mean().reset_index()\n",
    "\n",
    "# Erstellen des Diagramms\n",
    "import matplotlib.pyplot as plt\n",
    "import seaborn as sns\n",
    "\n",
    "plt.figure(figsize=(12, 6))\n",
    "ax = sns.lineplot(x=df_yearly['year'], y=df_yearly['avg_temp_c'], color='red', marker='o', label='Temperatur (°C)')\n",
    "\n",
    "# Zweite Achse für Niederschlag\n",
    "ax2 = ax.twinx()\n",
    "sns.barplot(x=df_yearly['year'], y=df_yearly['precipitation_mm'], ax=ax2, color='blue', alpha=0.5, label='Niederschlag (mm)')\n",
    "\n",
    "# Titel & Achsenbeschriftung\n",
    "ax.set_title('Jährlicher Temperatur- und Niederschlagsvergleich')\n",
    "ax.set_xlabel('Jahr')\n",
    "ax.set_ylabel('Temperatur (°C)', color='red')\n",
    "ax2.set_ylabel('Niederschlag (mm)', color='blue')\n",
    "\n",
    "# Anzeigen des Diagramms\n",
    "plt.show()"
   ]
  },
  {
   "cell_type": "code",
   "execution_count": null,
   "id": "a6bbb67c",
   "metadata": {},
   "outputs": [
    {
     "name": "stdout",
     "output_type": "stream",
     "text": [
      "Wöchentliche Durchschnittswerte:\n",
      "      avg_temp_c  precipitation_mm\n",
      "week                              \n",
      "1      49.035630          3.085179\n",
      "2      48.787663          2.998007\n",
      "3      48.644711          2.972176\n",
      "4      48.848529          3.001164\n",
      "5      49.232630          3.001550\n"
     ]
    }
   ],
   "source": [
    "# 12. Datenaggregation nach Tag, Woche, Monat\n",
    "df['week'] = pd.to_datetime(df['date']).dt.isocalendar().week\n",
    "df_weekly = df.groupby('week')[['avg_temp_c', 'precipitation_mm']].mean()\n",
    "print(\"Wöchentliche Durchschnittswerte:\")\n",
    "print(df_weekly.head())\n",
    "#...."
   ]
  }
 ],
 "metadata": {
  "kernelspec": {
   "display_name": "my_env",
   "language": "python",
   "name": "python3"
  },
  "language_info": {
   "codemirror_mode": {
    "name": "ipython",
    "version": 3
   },
   "file_extension": ".py",
   "mimetype": "text/x-python",
   "name": "python",
   "nbconvert_exporter": "python",
   "pygments_lexer": "ipython3",
   "version": "3.10.16"
  }
 },
 "nbformat": 4,
 "nbformat_minor": 5
}

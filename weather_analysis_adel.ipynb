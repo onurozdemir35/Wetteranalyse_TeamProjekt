{
 "cells": [
  {
   "cell_type": "markdown",
   "id": "56bbd60b",
   "metadata": {},
   "source": [
    "# ** Weather Data Analysis **"
   ]
  },
  {
   "cell_type": "markdown",
   "id": "233abb04",
   "metadata": {},
   "source": [
    "## 1. Historische Wetterdaten müssen aus einer CSV-Datei geladen werden"
   ]
  },
  {
   "cell_type": "code",
   "execution_count": 3,
   "id": "2b848d27",
   "metadata": {},
   "outputs": [
    {
     "name": "stdout",
     "output_type": "stream",
     "text": [
      "Requirement already satisfied: pandas in /Library/Frameworks/Python.framework/Versions/3.13/lib/python3.13/site-packages (2.2.3)\n",
      "Requirement already satisfied: numpy>=1.26.0 in /Library/Frameworks/Python.framework/Versions/3.13/lib/python3.13/site-packages (from pandas) (2.2.3)\n",
      "Requirement already satisfied: python-dateutil>=2.8.2 in /Library/Frameworks/Python.framework/Versions/3.13/lib/python3.13/site-packages (from pandas) (2.9.0.post0)\n",
      "Requirement already satisfied: pytz>=2020.1 in /Library/Frameworks/Python.framework/Versions/3.13/lib/python3.13/site-packages (from pandas) (2025.1)\n",
      "Requirement already satisfied: tzdata>=2022.7 in /Library/Frameworks/Python.framework/Versions/3.13/lib/python3.13/site-packages (from pandas) (2025.1)\n",
      "Requirement already satisfied: six>=1.5 in /Library/Frameworks/Python.framework/Versions/3.13/lib/python3.13/site-packages (from python-dateutil>=2.8.2->pandas) (1.17.0)\n",
      "\n",
      "\u001b[1m[\u001b[0m\u001b[34;49mnotice\u001b[0m\u001b[1;39;49m]\u001b[0m\u001b[39;49m A new release of pip is available: \u001b[0m\u001b[31;49m24.3.1\u001b[0m\u001b[39;49m -> \u001b[0m\u001b[32;49m25.0.1\u001b[0m\n",
      "\u001b[1m[\u001b[0m\u001b[34;49mnotice\u001b[0m\u001b[1;39;49m]\u001b[0m\u001b[39;49m To update, run: \u001b[0m\u001b[32;49mpython3 -m pip install --upgrade pip\u001b[0m\n",
      "Note: you may need to restart the kernel to use updated packages.\n",
      "Requirement already satisfied: numpy in /Library/Frameworks/Python.framework/Versions/3.13/lib/python3.13/site-packages (2.2.3)\n",
      "\n",
      "\u001b[1m[\u001b[0m\u001b[34;49mnotice\u001b[0m\u001b[1;39;49m]\u001b[0m\u001b[39;49m A new release of pip is available: \u001b[0m\u001b[31;49m24.3.1\u001b[0m\u001b[39;49m -> \u001b[0m\u001b[32;49m25.0.1\u001b[0m\n",
      "\u001b[1m[\u001b[0m\u001b[34;49mnotice\u001b[0m\u001b[1;39;49m]\u001b[0m\u001b[39;49m To update, run: \u001b[0m\u001b[32;49mpython3 -m pip install --upgrade pip\u001b[0m\n",
      "Note: you may need to restart the kernel to use updated packages.\n"
     ]
    }
   ],
   "source": [
    "%pip install pandas\n",
    "%pip install numpy"
   ]
  },
  {
   "cell_type": "code",
   "execution_count": 5,
   "id": "4d56cb39",
   "metadata": {},
   "outputs": [
    {
     "name": "stdout",
     "output_type": "stream",
     "text": [
      "daten (erste 5 Zeilen):\n",
      "  station_id city_name       date  season  avg_temp_c  min_temp_c  max_temp_c  \\\n",
      "0      41515  Asadabad 1957-07-01  Summer        27.0        21.1        35.6   \n",
      "1      41515  Asadabad 1957-07-02  Summer        22.8        18.9        32.2   \n",
      "2      41515  Asadabad 1957-07-03  Summer        24.3        16.7        35.6   \n",
      "3      41515  Asadabad 1957-07-04  Summer        26.6        16.1        37.8   \n",
      "4      41515  Asadabad 1957-07-05  Summer        30.8        20.0        41.7   \n",
      "\n",
      "   precipitation_mm  snow_depth_mm  avg_wind_dir_deg  avg_wind_speed_kmh  \\\n",
      "0               0.0            NaN               NaN                 NaN   \n",
      "1               0.0            NaN               NaN                 NaN   \n",
      "2               1.0            NaN               NaN                 NaN   \n",
      "3               4.1            NaN               NaN                 NaN   \n",
      "4               0.0            NaN               NaN                 NaN   \n",
      "\n",
      "   peak_wind_gust_kmh  avg_sea_level_pres_hpa  sunshine_total_min  \n",
      "0                 NaN                     NaN                 NaN  \n",
      "1                 NaN                     NaN                 NaN  \n",
      "2                 NaN                     NaN                 NaN  \n",
      "3                 NaN                     NaN                 NaN  \n",
      "4                 NaN                     NaN                 NaN  \n"
     ]
    }
   ],
   "source": [
    "import pandas as pd\n",
    "import numpy as np\n",
    "\n",
    "\n",
    "#data lesen\n",
    "df = pd.read_parquet(\"daily_weather.parquet\")\n",
    "\n",
    "# daten anzeigen\n",
    "print(\"daten (erste 5 Zeilen):\")\n",
    "print(df.head())"
   ]
  },
  {
   "cell_type": "markdown",
   "id": "45907dfd",
   "metadata": {},
   "source": [
    "## 2. Alle Datumswerte sind korrekt zu interpretieren und zu standardisieren"
   ]
  },
  {
   "cell_type": "code",
   "execution_count": 59,
   "id": "efba3e13",
   "metadata": {},
   "outputs": [
    {
     "name": "stdout",
     "output_type": "stream",
     "text": [
      "datetime64[ns]\n"
     ]
    }
   ],
   "source": [
    "#  Datum standardisieren \n",
    "df['date'] = pd.to_datetime(df['date'], errors='coerce')\n",
    "print(df[\"date\"].dtype)"
   ]
  },
  {
   "cell_type": "code",
   "execution_count": 7,
   "id": "8d709b2e",
   "metadata": {},
   "outputs": [
    {
     "name": "stdout",
     "output_type": "stream",
     "text": [
      "\n",
      "Fehlende Werte pro Spalte:\n",
      "station_id                       0\n",
      "city_name                    13993\n",
      "date                             0\n",
      "season                           0\n",
      "avg_temp_c                 6230907\n",
      "min_temp_c                 5718229\n",
      "max_temp_c                 5539346\n",
      "precipitation_mm           6642500\n",
      "snow_depth_mm             24208615\n",
      "avg_wind_dir_deg          24183195\n",
      "avg_wind_speed_kmh        22350295\n",
      "peak_wind_gust_kmh        26514277\n",
      "avg_sea_level_pres_hpa    23618606\n",
      "sunshine_total_min        26614302\n",
      "dtype: int64\n"
     ]
    }
   ],
   "source": [
    "print(\"\\nFehlende Werte pro Spalte:\")\n",
    "print(df.isnull().sum())"
   ]
  },
  {
   "cell_type": "markdown",
   "id": "a9b6e066",
   "metadata": {},
   "source": [
    "## 3.Fehlende oder fehlerhafte Wetterdaten sollen erkannt und bereinigt werden. "
   ]
  },
  {
   "cell_type": "code",
   "execution_count": 8,
   "id": "50d34adf",
   "metadata": {},
   "outputs": [
    {
     "name": "stdout",
     "output_type": "stream",
     "text": [
      "\n",
      "Fehlerhafte Temperaturwerte:\n",
      "      station_id city_name        date  season  avg_temp_c  min_temp_c  \\\n",
      "5202       38954  Fayzabad  1914-02-28  Winter        -3.3        -3.2   \n",
      "6228       38954  Fayzabad  1916-12-20  Winter        -5.6        -4.5   \n",
      "6229       38954  Fayzabad  1916-12-21  Winter        -6.3        -2.4   \n",
      "6230       38954  Fayzabad  1916-12-22  Winter        -5.9        -1.9   \n",
      "6231       38954  Fayzabad  1916-12-23  Winter        -5.8        -2.1   \n",
      "...          ...       ...         ...     ...         ...         ...   \n",
      "9693       67975  Masvingo  1979-12-04  Summer        19.5        20.6   \n",
      "10330      67975  Masvingo  1981-09-01  Spring        13.4        12.8   \n",
      "10548      67975  Masvingo  1982-04-07  Autumn        29.4        13.4   \n",
      "11114      67975  Masvingo  1983-10-25  Spring        17.4        18.1   \n",
      "12709      67975  Masvingo  1988-03-07  Autumn        19.7        19.9   \n",
      "\n",
      "       max_temp_c  precipitation_mm  snow_depth_mm  avg_wind_dir_deg  \\\n",
      "5202          4.4               0.0            NaN               NaN   \n",
      "6228          NaN               0.0            NaN               NaN   \n",
      "6229          NaN               0.0            NaN               NaN   \n",
      "6230          NaN               0.0            NaN               NaN   \n",
      "6231          NaN               0.0            NaN               NaN   \n",
      "...           ...               ...            ...               ...   \n",
      "9693         22.7              14.0            NaN               NaN   \n",
      "10330        13.2               5.8            NaN               NaN   \n",
      "10548        29.2               0.0            NaN               NaN   \n",
      "11114        18.5               5.7            NaN               NaN   \n",
      "12709        21.3               2.1            NaN               NaN   \n",
      "\n",
      "       avg_wind_speed_kmh  peak_wind_gust_kmh  avg_sea_level_pres_hpa  \\\n",
      "5202                  NaN                 NaN                     NaN   \n",
      "6228                  NaN                 NaN                     NaN   \n",
      "6229                  NaN                 NaN                     NaN   \n",
      "6230                  NaN                 NaN                     NaN   \n",
      "6231                  NaN                 NaN                     NaN   \n",
      "...                   ...                 ...                     ...   \n",
      "9693                  NaN                 NaN                     NaN   \n",
      "10330                 NaN                 NaN                     NaN   \n",
      "10548                 NaN                 NaN                     NaN   \n",
      "11114                 NaN                 NaN                     NaN   \n",
      "12709                 NaN                 NaN                     NaN   \n",
      "\n",
      "       sunshine_total_min  \n",
      "5202                  NaN  \n",
      "6228                  NaN  \n",
      "6229                  NaN  \n",
      "6230                  NaN  \n",
      "6231                  NaN  \n",
      "...                   ...  \n",
      "9693                  NaN  \n",
      "10330                 NaN  \n",
      "10548                 NaN  \n",
      "11114                 NaN  \n",
      "12709                 NaN  \n",
      "\n",
      "[37913 rows x 14 columns]\n",
      "\n",
      "Fehlerhafte Niederschlagswerte:\n",
      "Empty DataFrame\n",
      "Columns: [station_id, city_name, date, season, avg_temp_c, min_temp_c, max_temp_c, precipitation_mm, snow_depth_mm, avg_wind_dir_deg, avg_wind_speed_kmh, peak_wind_gust_kmh, avg_sea_level_pres_hpa, sunshine_total_min]\n",
      "Index: []\n"
     ]
    }
   ],
   "source": [
    "# Fehlerhafte Werte erkennen\n",
    "# Annahmen für Fehler:\n",
    "# - Temperaturen: min_temp_c < -50 oder max_temp_c > 50 sind unrealistisch\n",
    "# - avg_temp_c sollte zwischen min_temp_c und max_temp_c liegen\n",
    "# - Niederschlag: precipitation_mm < 0 ist ungültig\n",
    "temp_errors = df[(df['min_temp_c'] < -50) | (df['max_temp_c'] > 50) | \n",
    "                 (df['avg_temp_c'] < -50) | (df['avg_temp_c'] > 50) |\n",
    "                 (df['avg_temp_c'] < df['min_temp_c']) | (df['avg_temp_c'] > df['max_temp_c'])]\n",
    "precip_errors = df[df['precipitation_mm'] < 0]\n",
    "\n",
    "print(\"\\nFehlerhafte Temperaturwerte:\")\n",
    "print(temp_errors)\n",
    "print(\"\\nFehlerhafte Niederschlagswerte:\")\n",
    "print(precip_errors)"
   ]
  },
  {
   "cell_type": "code",
   "execution_count": null,
   "id": "8b467065",
   "metadata": {},
   "outputs": [],
   "source": [
    "# Daten bereinigen\n",
    "# Fehlerhafte Werte zu NaN setzen\n",
    "df['avg_temp_c'] = np.where((df['avg_temp_c'] < -50) | (df['avg_temp_c'] > 50) | \n",
    "                            (df['avg_temp_c'] < df['min_temp_c']) | (df['avg_temp_c'] > df['max_temp_c']), \n",
    "                            np.nan, df['avg_temp_c'])\n",
    "df['min_temp_c'] = np.where(df['min_temp_c'] < -50, np.nan, df['min_temp_c'])\n",
    "df['max_temp_c'] = np.where(df['max_temp_c'] > 50, np.nan, df['max_temp_c'])\n",
    "df['precipitation_mm'] = np.where(df['precipitation_mm'] < 0, np.nan, df['precipitation_mm'])\n",
    "\n",
    "# Fehlende Werte interpolieren\n",
    "df['avg_temp_c'] = df['avg_temp_c'].interpolate(method='linear')\n",
    "df['min_temp_c'] = df['min_temp_c'].interpolate(method='linear')\n",
    "df['max_temp_c'] = df['max_temp_c'].interpolate(method='linear')\n",
    "df['precipitation_mm'] = df['precipitation_mm'].interpolate(method='linear')"
   ]
  },
  {
   "cell_type": "code",
   "execution_count": 10,
   "id": "f40ca2fc",
   "metadata": {},
   "outputs": [
    {
     "name": "stdout",
     "output_type": "stream",
     "text": [
      "\n",
      "Bereinigte Daten :\n",
      "  station_id city_name        date  season  avg_temp_c  min_temp_c  \\\n",
      "0      41515  Asadabad  1957-07-01  Summer        27.0        21.1   \n",
      "1      41515  Asadabad  1957-07-02  Summer        22.8        18.9   \n",
      "2      41515  Asadabad  1957-07-03  Summer        24.3        16.7   \n",
      "3      41515  Asadabad  1957-07-04  Summer        26.6        16.1   \n",
      "4      41515  Asadabad  1957-07-05  Summer        30.8        20.0   \n",
      "\n",
      "   max_temp_c  precipitation_mm  snow_depth_mm  avg_wind_dir_deg  \\\n",
      "0        35.6               0.0            NaN               NaN   \n",
      "1        32.2               0.0            NaN               NaN   \n",
      "2        35.6               1.0            NaN               NaN   \n",
      "3        37.8               4.1            NaN               NaN   \n",
      "4        41.7               0.0            NaN               NaN   \n",
      "\n",
      "   avg_wind_speed_kmh  peak_wind_gust_kmh  avg_sea_level_pres_hpa  \\\n",
      "0                 NaN                 NaN                     NaN   \n",
      "1                 NaN                 NaN                     NaN   \n",
      "2                 NaN                 NaN                     NaN   \n",
      "3                 NaN                 NaN                     NaN   \n",
      "4                 NaN                 NaN                     NaN   \n",
      "\n",
      "   sunshine_total_min  \n",
      "0                 NaN  \n",
      "1                 NaN  \n",
      "2                 NaN  \n",
      "3                 NaN  \n",
      "4                 NaN  \n"
     ]
    }
   ],
   "source": [
    "# Bereinigte Daten anzeigen\n",
    "print(\"\\nBereinigte Daten :\")\n",
    "print(df.head())\n"
   ]
  },
  {
   "cell_type": "markdown",
   "id": "9ecf21bb",
   "metadata": {},
   "source": [
    "## 4. Temperaturen ggf. in Celsius (oder andere Einheiten) umrechnen."
   ]
  },
  {
   "cell_type": "code",
   "execution_count": 11,
   "id": "bb197c4b",
   "metadata": {},
   "outputs": [],
   "source": [
    "# Temperaturen ggf. in eine andere Einheit umrechnen\n",
    "# Annahme: Daten sind aktuell in Celsius, Ziel ist z. B. Fahrenheit\n",
    "aktuelle_einheit = \"celsius\"  \n",
    "ziel_einheit = \"fahrenheit\"  \n",
    "\n",
    "# Umrechnungsfunktionen definieren\n",
    "def celsius_zu_fahrenheit(c):\n",
    "    return (c * 9/5) + 32\n",
    "\n",
    "def fahrenheit_zu_celsius(f):\n",
    "    return (f - 32) * 5/9"
   ]
  },
  {
   "cell_type": "code",
   "execution_count": 12,
   "id": "62f4ecb3",
   "metadata": {},
   "outputs": [
    {
     "name": "stdout",
     "output_type": "stream",
     "text": [
      "\n",
      "Temperaturen von celsius nach fahrenheit umgerechnet.\n"
     ]
    }
   ],
   "source": [
    "# Umrechnung durchführen\n",
    "if aktuelle_einheit.lower() != ziel_einheit.lower():\n",
    "    if ziel_einheit.lower() == \"fahrenheit\" and aktuelle_einheit.lower() == \"celsius\":\n",
    "        df['avg_temp_c'] = df['avg_temp_c'].apply(celsius_zu_fahrenheit)\n",
    "        df['min_temp_c'] = df['min_temp_c'].apply(celsius_zu_fahrenheit)\n",
    "        df['max_temp_c'] = df['max_temp_c'].apply(celsius_zu_fahrenheit)\n",
    "        # Spalten umbenennen\n",
    "        #df = df.rename(columns={\n",
    "         #   'avg_temp_c': 'avg_temp_f',\n",
    "         #   'min_temp_c': 'min_temp_f',\n",
    "         #   'max_temp_c': 'max_temp_f'\n",
    "        #})\n",
    "        print(f\"\\nTemperaturen von {aktuelle_einheit} nach {ziel_einheit} umgerechnet.\")\n",
    "    elif ziel_einheit.lower() == \"celsius\" and aktuelle_einheit.lower() == \"fahrenheit\":\n",
    "        df['avg_temp_c'] = df['avg_temp_c'].apply(fahrenheit_zu_celsius)\n",
    "        df['min_temp_c'] = df['min_temp_c'].apply(fahrenheit_zu_celsius)\n",
    "        df['max_temp_c'] = df['max_temp_c'].apply(fahrenheit_zu_celsius)\n",
    "        print(f\"\\nTemperaturen von {aktuelle_einheit} nach {ziel_einheit} umgerechnet.\")\n",
    "    else:\n",
    "        print(\"\\nFehler: Ungültige Einheitenkombination.\")\n",
    "else:\n",
    "    print(f\"\\nKeine Umrechnung nötig, Daten sind bereits in {aktuelle_einheit}.\")"
   ]
  },
  {
   "cell_type": "code",
   "execution_count": 13,
   "id": "1dd53c13",
   "metadata": {},
   "outputs": [
    {
     "name": "stdout",
     "output_type": "stream",
     "text": [
      "\n",
      "Bereinigte und umgerechnete Daten :\n",
      "  station_id city_name        date  season  avg_temp_c  min_temp_c  \\\n",
      "0      41515  Asadabad  1957-07-01  Summer       80.60       69.98   \n",
      "1      41515  Asadabad  1957-07-02  Summer       73.04       66.02   \n",
      "2      41515  Asadabad  1957-07-03  Summer       75.74       62.06   \n",
      "3      41515  Asadabad  1957-07-04  Summer       79.88       60.98   \n",
      "4      41515  Asadabad  1957-07-05  Summer       87.44       68.00   \n",
      "\n",
      "   max_temp_c  precipitation_mm  snow_depth_mm  avg_wind_dir_deg  \\\n",
      "0       96.08               0.0            NaN               NaN   \n",
      "1       89.96               0.0            NaN               NaN   \n",
      "2       96.08               1.0            NaN               NaN   \n",
      "3      100.04               4.1            NaN               NaN   \n",
      "4      107.06               0.0            NaN               NaN   \n",
      "\n",
      "   avg_wind_speed_kmh  peak_wind_gust_kmh  avg_sea_level_pres_hpa  \\\n",
      "0                 NaN                 NaN                     NaN   \n",
      "1                 NaN                 NaN                     NaN   \n",
      "2                 NaN                 NaN                     NaN   \n",
      "3                 NaN                 NaN                     NaN   \n",
      "4                 NaN                 NaN                     NaN   \n",
      "\n",
      "   sunshine_total_min  \n",
      "0                 NaN  \n",
      "1                 NaN  \n",
      "2                 NaN  \n",
      "3                 NaN  \n",
      "4                 NaN  \n"
     ]
    }
   ],
   "source": [
    "print(\"\\nBereinigte und umgerechnete Daten :\")\n",
    "print(df.head())"
   ]
  },
  {
   "cell_type": "markdown",
   "id": "971e7c25",
   "metadata": {},
   "source": [
    "## 5. Berechnung der täglichen Durchschnittstemperaturen."
   ]
  },
  {
   "cell_type": "code",
   "execution_count": 12,
   "id": "a7000405",
   "metadata": {},
   "outputs": [
    {
     "name": "stdout",
     "output_type": "stream",
     "text": [
      "  station_id city_name        date  season  avg_temp_c  min_temp_c  \\\n",
      "0      41515  Asadabad  1957-07-01  Summer       80.60       69.98   \n",
      "1      41515  Asadabad  1957-07-02  Summer       73.04       66.02   \n",
      "2      41515  Asadabad  1957-07-03  Summer       75.74       62.06   \n",
      "3      41515  Asadabad  1957-07-04  Summer       79.88       60.98   \n",
      "4      41515  Asadabad  1957-07-05  Summer       87.44       68.00   \n",
      "\n",
      "   max_temp_c  precipitation_mm  snow_depth_mm  avg_wind_dir_deg  \\\n",
      "0       96.08               0.0            NaN               NaN   \n",
      "1       89.96               0.0            NaN               NaN   \n",
      "2       96.08               1.0            NaN               NaN   \n",
      "3      100.04               4.1            NaN               NaN   \n",
      "4      107.06               0.0            NaN               NaN   \n",
      "\n",
      "   avg_wind_speed_kmh  peak_wind_gust_kmh  avg_sea_level_pres_hpa  \\\n",
      "0                 NaN                 NaN                     NaN   \n",
      "1                 NaN                 NaN                     NaN   \n",
      "2                 NaN                 NaN                     NaN   \n",
      "3                 NaN                 NaN                     NaN   \n",
      "4                 NaN                 NaN                     NaN   \n",
      "\n",
      "   sunshine_total_min  tag_avg_temp_c  \n",
      "0                 NaN           83.03  \n",
      "1                 NaN           77.99  \n",
      "2                 NaN           79.07  \n",
      "3                 NaN           80.51  \n",
      "4                 NaN           87.53  \n"
     ]
    }
   ],
   "source": [
    "#Berechnung der täglichen Durchschnittstemperaturen\n",
    "# Neue Spalte mit Durchschnitt aus min_temp_f und max_temp_f berechnen\n",
    "df['tag_avg_temp_c'] = (df['min_temp_c'] + df['max_temp_c']) / 2\n",
    "\n",
    "print(df.head())"
   ]
  },
  {
   "cell_type": "markdown",
   "id": "1681c082",
   "metadata": {},
   "source": [
    "## 6. Identikation von Maximal- und Minimaltemperaturen.\n"
   ]
  },
  {
   "cell_type": "code",
   "execution_count": 13,
   "id": "c1069e36",
   "metadata": {},
   "outputs": [
    {
     "name": "stdout",
     "output_type": "stream",
     "text": [
      "max_temp : 122.0 fahrenheit\n",
      "min_temp :  -58.0 fahrenheit\n"
     ]
    }
   ],
   "source": [
    "# Identifikation von Maximal- und Minimaltemperaturen\n",
    "global_max_temp = df['max_temp_c'].max()\n",
    "global_min_temp = df['min_temp_c'].min()\n",
    "\n",
    "print (\"max_temp :\", global_max_temp , ziel_einheit )\n",
    "print (\"min_temp : \", global_min_temp ,   ziel_einheit)"
   ]
  },
  {
   "cell_type": "markdown",
   "id": "102a3ff3",
   "metadata": {},
   "source": [
    "## 7. Berechnung von Mittelwert, Median und Standardabweichung für verschiedene Parameter."
   ]
  },
  {
   "cell_type": "code",
   "execution_count": 18,
   "id": "cd8ccce7",
   "metadata": {},
   "outputs": [
    {
     "name": "stdout",
     "output_type": "stream",
     "text": [
      "Index(['station_id', 'city_name', 'date', 'season', 'avg_temp_c', 'min_temp_c',\n",
      "       'max_temp_c', 'precipitation_mm', 'snow_depth_mm', 'avg_wind_dir_deg',\n",
      "       'avg_wind_speed_kmh', 'peak_wind_gust_kmh', 'avg_sea_level_pres_hpa',\n",
      "       'sunshine_total_min'],\n",
      "      dtype='object')\n"
     ]
    }
   ],
   "source": [
    "print(df.columns)"
   ]
  },
  {
   "cell_type": "code",
   "execution_count": null,
   "id": "b648eb70",
   "metadata": {},
   "outputs": [
    {
     "name": "stdout",
     "output_type": "stream",
     "text": [
      "0        80.60\n",
      "1        73.04\n",
      "2        75.74\n",
      "3        79.88\n",
      "4        87.44\n",
      "         ...  \n",
      "24216    67.10\n",
      "24217    70.34\n",
      "24218    71.78\n",
      "24219    70.70\n",
      "24220    68.00\n",
      "Name: avg_temp_c, Length: 27635763, dtype: float64\n"
     ]
    }
   ],
   "source": [
    "print(df[\"avg_temp_c\"])"
   ]
  },
  {
   "cell_type": "code",
   "execution_count": 21,
   "id": "90f981b8",
   "metadata": {},
   "outputs": [
    {
     "name": "stdout",
     "output_type": "stream",
     "text": [
      "0        69.98\n",
      "1        66.02\n",
      "2        62.06\n",
      "3        60.98\n",
      "4        68.00\n",
      "         ...  \n",
      "24216    49.28\n",
      "24217    50.90\n",
      "24218    55.40\n",
      "24219    55.58\n",
      "24220    57.20\n",
      "Name: min_temp_c, Length: 27635763, dtype: float64\n"
     ]
    }
   ],
   "source": [
    "print(df[\"min_temp_c\"])"
   ]
  },
  {
   "cell_type": "code",
   "execution_count": 22,
   "id": "39a7f9b1",
   "metadata": {},
   "outputs": [
    {
     "name": "stdout",
     "output_type": "stream",
     "text": [
      "0         96.08\n",
      "1         89.96\n",
      "2         96.08\n",
      "3        100.04\n",
      "4        107.06\n",
      "          ...  \n",
      "24216     83.12\n",
      "24217     88.52\n",
      "24218     88.70\n",
      "24219     85.46\n",
      "24220     81.14\n",
      "Name: max_temp_c, Length: 27635763, dtype: float64\n"
     ]
    }
   ],
   "source": [
    "print(df[\"max_temp_c\"])"
   ]
  },
  {
   "cell_type": "code",
   "execution_count": 23,
   "id": "7d04933a",
   "metadata": {},
   "outputs": [
    {
     "name": "stdout",
     "output_type": "stream",
     "text": [
      "0        0.0\n",
      "1        0.0\n",
      "2        1.0\n",
      "3        4.1\n",
      "4        0.0\n",
      "        ... \n",
      "24216    0.0\n",
      "24217    0.0\n",
      "24218    0.0\n",
      "24219    0.0\n",
      "24220    0.0\n",
      "Name: precipitation_mm, Length: 27635763, dtype: float64\n"
     ]
    }
   ],
   "source": [
    "print(df[\"precipitation_mm\"])"
   ]
  },
  {
   "cell_type": "code",
   "execution_count": 47,
   "id": "59c1e379",
   "metadata": {},
   "outputs": [
    {
     "name": "stdout",
     "output_type": "stream",
     "text": [
      "0       NaN\n",
      "1       NaN\n",
      "2       NaN\n",
      "3       NaN\n",
      "4       NaN\n",
      "         ..\n",
      "24216   NaN\n",
      "24217   NaN\n",
      "24218   NaN\n",
      "24219   NaN\n",
      "24220   NaN\n",
      "Name: snow_depth_mm, Length: 27635763, dtype: float64\n",
      "1438      20.0\n",
      "1448      71.0\n",
      "1660     239.0\n",
      "9360     640.0\n",
      "22503    201.0\n",
      "         ...  \n",
      "5703      71.0\n",
      "9367      20.0\n",
      "15405     51.0\n",
      "15407     79.0\n",
      "16718     10.0\n",
      "Name: snow_depth_mm, Length: 3427148, dtype: float64\n"
     ]
    }
   ],
   "source": [
    "print(df[\"snow_depth_mm\"])\n",
    "# Die einzigartigen Werte der Spalte anzeigen\n",
    "numerische_werte = pd.to_numeric(df[\"snow_depth_mm\"], errors='coerce')\n",
    "# Filtern der numerischen Werte (ohne NaN)\n",
    "numerische_werte_ohne_nan = numerische_werte.dropna()\n",
    "\n",
    "# Die bereinigte Liste der numerischen Werte anzeigen\n",
    "print(numerische_werte_ohne_nan)"
   ]
  },
  {
   "cell_type": "code",
   "execution_count": 48,
   "id": "a1fc485c",
   "metadata": {},
   "outputs": [
    {
     "name": "stdout",
     "output_type": "stream",
     "text": [
      "0          NaN\n",
      "1          NaN\n",
      "2          NaN\n",
      "3          NaN\n",
      "4          NaN\n",
      "         ...  \n",
      "24216    180.0\n",
      "24217    146.0\n",
      "24218    147.0\n",
      "24219    155.0\n",
      "24220    141.0\n",
      "Name: avg_wind_dir_deg, Length: 27635763, dtype: float64\n",
      "8603      81.0\n",
      "8604      69.0\n",
      "8605      60.0\n",
      "8606      75.0\n",
      "8607     116.0\n",
      "         ...  \n",
      "24216    180.0\n",
      "24217    146.0\n",
      "24218    147.0\n",
      "24219    155.0\n",
      "24220    141.0\n",
      "Name: avg_wind_dir_deg, Length: 3452568, dtype: float64\n"
     ]
    }
   ],
   "source": [
    "print(df[\"avg_wind_dir_deg\"])\n",
    "# Die einzigartigen Werte der Spalte anzeigen\n",
    "numerische_werte = pd.to_numeric(df[\"avg_wind_dir_deg\"], errors='coerce')\n",
    "# Filtern der numerischen Werte (ohne NaN)\n",
    "numerische_werte_ohne_nan = numerische_werte.dropna()\n",
    "\n",
    "# Die bereinigte Liste der numerischen Werte anzeigen\n",
    "print(numerische_werte_ohne_nan)"
   ]
  },
  {
   "cell_type": "code",
   "execution_count": 49,
   "id": "7915bd64",
   "metadata": {},
   "outputs": [
    {
     "name": "stdout",
     "output_type": "stream",
     "text": [
      "0         NaN\n",
      "1         NaN\n",
      "2         NaN\n",
      "3         NaN\n",
      "4         NaN\n",
      "         ... \n",
      "24216     4.6\n",
      "24217     6.3\n",
      "24218     8.2\n",
      "24219    10.2\n",
      "24220    12.9\n",
      "Name: avg_wind_speed_kmh, Length: 27635763, dtype: float64\n",
      "8603      5.3\n",
      "8604      3.8\n",
      "8605      1.3\n",
      "8606      2.0\n",
      "8607      2.4\n",
      "         ... \n",
      "24216     4.6\n",
      "24217     6.3\n",
      "24218     8.2\n",
      "24219    10.2\n",
      "24220    12.9\n",
      "Name: avg_wind_speed_kmh, Length: 5285468, dtype: float64\n"
     ]
    }
   ],
   "source": [
    "print(df[\"avg_wind_speed_kmh\"])\n",
    "# Die einzigartigen Werte der Spalte anzeigen\n",
    "numerische_werte = pd.to_numeric(df[\"avg_wind_speed_kmh\"], errors='coerce')\n",
    "# Filtern der numerischen Werte (ohne NaN)\n",
    "numerische_werte_ohne_nan = numerische_werte.dropna()\n",
    "\n",
    "# Die bereinigte Liste der numerischen Werte anzeigen\n",
    "print(numerische_werte_ohne_nan)"
   ]
  },
  {
   "cell_type": "code",
   "execution_count": 50,
   "id": "f652452e",
   "metadata": {},
   "outputs": [
    {
     "name": "stdout",
     "output_type": "stream",
     "text": [
      "0       NaN\n",
      "1       NaN\n",
      "2       NaN\n",
      "3       NaN\n",
      "4       NaN\n",
      "         ..\n",
      "24216   NaN\n",
      "24217   NaN\n",
      "24218   NaN\n",
      "24219   NaN\n",
      "24220   NaN\n",
      "Name: peak_wind_gust_kmh, Length: 27635763, dtype: float64\n",
      "7940     44.5\n",
      "7941     44.5\n",
      "7942     20.4\n",
      "7943     20.4\n",
      "7944     35.2\n",
      "         ... \n",
      "22428    51.5\n",
      "22429    61.2\n",
      "22430    32.0\n",
      "22431    38.5\n",
      "22432    35.3\n",
      "Name: peak_wind_gust_kmh, Length: 1121486, dtype: float64\n"
     ]
    }
   ],
   "source": [
    "print(df[\"peak_wind_gust_kmh\"])\n",
    "# Die einzigartigen Werte der Spalte anzeigen\n",
    "numerische_werte = pd.to_numeric(df[\"peak_wind_gust_kmh\"], errors='coerce')\n",
    "# Filtern der numerischen Werte (ohne NaN)\n",
    "numerische_werte_ohne_nan = numerische_werte.dropna()\n",
    "\n",
    "# Die bereinigte Liste der numerischen Werte anzeigen\n",
    "print(numerische_werte_ohne_nan)\n"
   ]
  },
  {
   "cell_type": "code",
   "execution_count": 46,
   "id": "b51287e3",
   "metadata": {},
   "outputs": [
    {
     "name": "stdout",
     "output_type": "stream",
     "text": [
      "0       NaN\n",
      "1       NaN\n",
      "2       NaN\n",
      "3       NaN\n",
      "4       NaN\n",
      "         ..\n",
      "24216   NaN\n",
      "24217   NaN\n",
      "24218   NaN\n",
      "24219   NaN\n",
      "24220   NaN\n",
      "Name: avg_sea_level_pres_hpa, Length: 27635763, dtype: float64\n",
      "8603     1026.4\n",
      "8604     1023.3\n",
      "8605     1024.3\n",
      "8606     1020.1\n",
      "8607     1018.0\n",
      "          ...  \n",
      "24207    1013.9\n",
      "24208    1016.2\n",
      "24209    1014.6\n",
      "24210    1013.2\n",
      "24211    1026.8\n",
      "Name: avg_sea_level_pres_hpa, Length: 4017157, dtype: float64\n"
     ]
    }
   ],
   "source": [
    "print(df[\"avg_sea_level_pres_hpa\"])\n",
    "# Die einzigartigen Werte der Spalte anzeigen\n",
    "numerische_werte = pd.to_numeric(df[\"avg_sea_level_pres_hpa\"], errors='coerce')\n",
    "# Filtern der numerischen Werte (ohne NaN)\n",
    "numerische_werte_ohne_nan = numerische_werte.dropna()\n",
    "\n",
    "# Die bereinigte Liste der numerischen Werte anzeigen\n",
    "print(numerische_werte_ohne_nan)"
   ]
  },
  {
   "cell_type": "code",
   "execution_count": 51,
   "id": "e68c0c98",
   "metadata": {},
   "outputs": [
    {
     "name": "stdout",
     "output_type": "stream",
     "text": [
      "0       NaN\n",
      "1       NaN\n",
      "2       NaN\n",
      "3       NaN\n",
      "4       NaN\n",
      "         ..\n",
      "24216   NaN\n",
      "24217   NaN\n",
      "24218   NaN\n",
      "24219   NaN\n",
      "24220   NaN\n",
      "Name: sunshine_total_min, Length: 27635763, dtype: float64\n",
      "512      342.0\n",
      "513      402.0\n",
      "514      462.0\n",
      "515      456.0\n",
      "516      378.0\n",
      "         ...  \n",
      "25063      0.0\n",
      "25064      0.0\n",
      "25081      0.0\n",
      "25083      0.0\n",
      "25113      0.0\n",
      "Name: sunshine_total_min, Length: 1021461, dtype: float64\n"
     ]
    }
   ],
   "source": [
    "print(df[\"sunshine_total_min\"])\n",
    "# Die einzigartigen Werte der Spalte anzeigen\n",
    "numerische_werte = pd.to_numeric(df[\"sunshine_total_min\"], errors='coerce')\n",
    "# Filtern der numerischen Werte (ohne NaN)\n",
    "numerische_werte_ohne_nan = numerische_werte.dropna()\n",
    "\n",
    "# Die bereinigte Liste der numerischen Werte anzeigen\n",
    "print(numerische_werte_ohne_nan)\n"
   ]
  },
  {
   "cell_type": "code",
   "execution_count": null,
   "id": "15bfdee3",
   "metadata": {},
   "outputs": [
    {
     "name": "stdout",
     "output_type": "stream",
     "text": [
      "avg_temp_c - Mittelwert: 60.05092543563913\n",
      "avg_temp_c - Median: 63.14\n",
      "avg_temp_c - Standardabweichung: 20.86825847330654\n"
     ]
    }
   ],
   "source": [
    "# Berechnung und Ausgabe der statistischen Kennzahlen für die Spalte \"avg_temp_c\" (Durchschnittstemperatur in Celsius)\n",
    "\n",
    "# Mittelwert der avg Temperatur berechnen\n",
    "print(\"avg_temp_c - Mittelwert:\", df[\"avg_temp_c\"].mean())\n",
    "\n",
    "# Median der avg Temperatur berechnen\n",
    "print(\"avg_temp_c - Median:\", df[\"avg_temp_c\"].median())\n",
    "\n",
    "# Standardabweichung der avg Temperatur berechnen\n",
    "print(\"avg_temp_c - Standardabweichung:\", df[\"avg_temp_c\"].std())"
   ]
  },
  {
   "cell_type": "code",
   "execution_count": null,
   "id": "a0da410b",
   "metadata": {},
   "outputs": [
    {
     "name": "stdout",
     "output_type": "stream",
     "text": [
      "min_temp_c - Mittelwert: 50.76290060238248\n",
      "min_temp_c - Median: 53.06\n",
      "min_temp_c - Standardabweichung: 20.63645660618562\n"
     ]
    }
   ],
   "source": [
    "# Berechnung und Ausgabe der statistischen Kennzahlen für die Spalte \"min_temp_c\" \n",
    "\n",
    "# Mittelwert der min Temperatur berechnen\n",
    "print(\"min_temp_c - Mittelwert:\", df[\"min_temp_c\"].mean())\n",
    "\n",
    "# Median der min Temperatur berechnen\n",
    "print(\"min_temp_c - Median:\", df[\"min_temp_c\"].median())\n",
    "\n",
    "# Standardabweichung der min Temperatur berechnen\n",
    "print(\"min_temp_c - Standardabweichung:\", df[\"min_temp_c\"].std())"
   ]
  },
  {
   "cell_type": "code",
   "execution_count": 33,
   "id": "a3c81616",
   "metadata": {},
   "outputs": [
    {
     "name": "stdout",
     "output_type": "stream",
     "text": [
      "max_temp_c - Mittelwert: 50.76290060238248\n",
      "max_temp_c - Median: 73.58\n",
      "max_temp_c - Standardabweichung: 22.27724644738596\n"
     ]
    }
   ],
   "source": [
    "# Berechnung und Ausgabe der statistischen Kennzahlen für die Spalte \"max_temp_c\" \n",
    "\n",
    "# Mittelwert der max Temperatur berechnen\n",
    "print(\"max_temp_c - Mittelwert:\", df[\"min_temp_c\"].mean())\n",
    "\n",
    "# Median der max Temperatur berechnen\n",
    "print(\"max_temp_c - Median:\", df[\"max_temp_c\"].median())\n",
    "\n",
    "# Standardabweichung der max Temperatur berechnen\n",
    "print(\"max_temp_c - Standardabweichung:\", df[\"max_temp_c\"].std())"
   ]
  },
  {
   "cell_type": "code",
   "execution_count": null,
   "id": "1a8a66dd",
   "metadata": {},
   "outputs": [
    {
     "name": "stdout",
     "output_type": "stream",
     "text": [
      "precipitation_mm - Mittelwert: 3.4651448360589763\n",
      "precipitation_mm - Median: 0.0\n",
      "precipitation_mm - Standardabweichung: 12.072316720929368\n"
     ]
    }
   ],
   "source": [
    "# Berechnung und Ausgabe der statistischen Kennzahlen für die Spalte \"precipitation_mm\" \n",
    "\n",
    "# Mittelwert der precipitation_mm  berechnen\n",
    "print(\"precipitation_mm - Mittelwert:\", df[\"precipitation_mm\"].mean())\n",
    "\n",
    "# Median der precipitation_mm berechnen\n",
    "print(\"precipitation_mm - Median:\", df[\"precipitation_mm\"].median())\n",
    "\n",
    "# Standardabweichung der precipitation_mm berechnen\n",
    "print(\"precipitation_mm - Standardabweichung:\", df[\"precipitation_mm\"].std())"
   ]
  },
  {
   "cell_type": "code",
   "execution_count": null,
   "id": "51592644",
   "metadata": {},
   "outputs": [
    {
     "name": "stdout",
     "output_type": "stream",
     "text": [
      "snow_depth_mm - Mittelwert: 79.96230889357565\n",
      "snow_depth_mm - Median: 0.0\n",
      "snow_depth_mm - Standardabweichung: 350.07564558397144\n"
     ]
    }
   ],
   "source": [
    "# Berechnung und Ausgabe der statistischen Kennzahlen für die Spalte \"snow_depth_mm\" \n",
    "\n",
    "# Mittelwert der snow_depth_mm  berechnen\n",
    "print(\"snow_depth_mm - Mittelwert:\", df[\"snow_depth_mm\"].mean())\n",
    "\n",
    "# Median der snow_depth_mm berechnen\n",
    "print(\"snow_depth_mm - Median:\", df[\"snow_depth_mm\"].median())\n",
    "\n",
    "# Standardabweichung der snow_depth_mm berechnen\n",
    "print(\"snow_depth_mm - Standardabweichung:\", df[\"snow_depth_mm\"].std())"
   ]
  },
  {
   "cell_type": "code",
   "execution_count": 36,
   "id": "3e7ef75c",
   "metadata": {},
   "outputs": [
    {
     "name": "stdout",
     "output_type": "stream",
     "text": [
      "avg_wind_dir_deg - Mittelwert: 182.09786773207654\n",
      "avg_wind_dir_deg - Median: 191.0\n",
      "avg_wind_dir_deg - Standardabweichung: 105.19963629013685\n"
     ]
    }
   ],
   "source": [
    "# Berechnung und Ausgabe der statistischen Kennzahlen für die Spalte \"avg_wind_dir_deg\" \n",
    "\n",
    "# Mittelwert der avg_wind_dir_deg  berechnen\n",
    "print(\"avg_wind_dir_deg - Mittelwert:\", df[\"avg_wind_dir_deg\"].mean())\n",
    "\n",
    "# Median der avg_wind_dir_deg berechnen\n",
    "print(\"avg_wind_dir_deg - Median:\", df[\"avg_wind_dir_deg\"].median())\n",
    "\n",
    "# Standardabweichung der avg_wind_dir_deg berechnen\n",
    "print(\"avg_wind_dir_deg - Standardabweichung:\", df[\"avg_wind_dir_deg\"].std())"
   ]
  },
  {
   "cell_type": "code",
   "execution_count": 37,
   "id": "aa1f093d",
   "metadata": {},
   "outputs": [
    {
     "name": "stdout",
     "output_type": "stream",
     "text": [
      "avg_wind_speed_kmh - Mittelwert: 12.408272947636823\n",
      " avg_wind_speed_kmh- Median: 10.9\n",
      "avg_wind_speed_kmh - Standardabweichung: 7.054249020350885\n"
     ]
    }
   ],
   "source": [
    "# Berechnung und Ausgabe der statistischen Kennzahlen für die Spalte \"avg_wind_speed_kmh\" \n",
    "\n",
    "# Mittelwert der avg_wind_speed_kmh  berechnen\n",
    "print(\"avg_wind_speed_kmh - Mittelwert:\", df[\"avg_wind_speed_kmh\"].mean())\n",
    "\n",
    "# Median deravg_wind_speed_kmh berechnen\n",
    "print(\" avg_wind_speed_kmh- Median:\", df[\"avg_wind_speed_kmh\"].median())\n",
    "\n",
    "# Standardabweichung der avg_wind_speed_kmh berechnen\n",
    "print(\"avg_wind_speed_kmh - Standardabweichung:\", df[\"avg_wind_speed_kmh\"].std())"
   ]
  },
  {
   "cell_type": "code",
   "execution_count": 38,
   "id": "8edb8c0a",
   "metadata": {},
   "outputs": [
    {
     "name": "stdout",
     "output_type": "stream",
     "text": [
      "peak_wind_gust_kmh - Mittelwert: 38.57887089094291\n",
      "peak_wind_gust_kmh - Median: 35.3\n",
      "peak_wind_gust_kmh - Standardabweichung: 20.109514709207208\n"
     ]
    }
   ],
   "source": [
    "# Berechnung und Ausgabe der statistischen Kennzahlen für die Spalte \"peak_wind_gust_kmh\" \n",
    "\n",
    "# Mittelwert der  peak_wind_gust_kmh berechnen\n",
    "print(\"peak_wind_gust_kmh - Mittelwert:\", df[\"peak_wind_gust_kmh\"].mean())\n",
    "\n",
    "# Median der peak_wind_gust_kmh berechnen\n",
    "print(\"peak_wind_gust_kmh - Median:\", df[\"peak_wind_gust_kmh\"].median())\n",
    "\n",
    "# Standardabweichung der peak_wind_gust_kmh berechnen\n",
    "print(\"peak_wind_gust_kmh - Standardabweichung:\", df[\"peak_wind_gust_kmh\"].std())"
   ]
  },
  {
   "cell_type": "code",
   "execution_count": 39,
   "id": "6411ce76",
   "metadata": {},
   "outputs": [
    {
     "name": "stdout",
     "output_type": "stream",
     "text": [
      "avg_sea_level_pres_hpa - Mittelwert: 1015.0321404665048\n",
      "avg_sea_level_pres_hpa - Median: 1014.7\n",
      "avg_sea_level_pres_hpa - Standardabweichung: 8.520449951797099\n"
     ]
    }
   ],
   "source": [
    "# Berechnung und Ausgabe der statistischen Kennzahlen für die Spalte \"avg_sea_level_pres_hpa\" \n",
    "\n",
    "# Mittelwert der avg_sea_level_pres_hpa berechnen\n",
    "print(\"avg_sea_level_pres_hpa - Mittelwert:\", df[\"avg_sea_level_pres_hpa\"].mean())\n",
    "\n",
    "# Median der avg_sea_level_pres_hpa berechnen\n",
    "print(\"avg_sea_level_pres_hpa - Median:\", df[\"avg_sea_level_pres_hpa\"].median())\n",
    "\n",
    "# Standardabweichung der avg_sea_level_pres_hpa berechnen\n",
    "print(\"avg_sea_level_pres_hpa - Standardabweichung:\", df[\"avg_sea_level_pres_hpa\"].std())"
   ]
  },
  {
   "cell_type": "code",
   "execution_count": 40,
   "id": "d34e9ae3",
   "metadata": {},
   "outputs": [
    {
     "name": "stdout",
     "output_type": "stream",
     "text": [
      "sunshine_total_min - Mittelwert: 350.43987092997185\n",
      "sunshine_total_min - Median: 346.0\n",
      "sunshine_total_min - Standardabweichung: 281.51420407411683\n"
     ]
    }
   ],
   "source": [
    "# Berechnung und Ausgabe der statistischen Kennzahlen für die Spalte \"sunshine_total_min\" \n",
    "\n",
    "# Mittelwert der  sunshine_total_min berechnen\n",
    "print(\"sunshine_total_min - Mittelwert:\", df[\"sunshine_total_min\"].mean())\n",
    "\n",
    "# Median der sunshine_total_min berechnen\n",
    "print(\"sunshine_total_min - Median:\", df[\"sunshine_total_min\"].median())\n",
    "\n",
    "# Standardabweichung der sunshine_total_min berechnen\n",
    "print(\"sunshine_total_min - Standardabweichung:\", df[\"sunshine_total_min\"].std())"
   ]
  },
  {
   "cell_type": "markdown",
   "id": "5c1ec251",
   "metadata": {},
   "source": [
    "## 8.Analyse und Visualisierung saisonaler Muster (z. B. Sommer vs. Winter)."
   ]
  },
  {
   "cell_type": "code",
   "execution_count": null,
   "id": "20373a97",
   "metadata": {},
   "outputs": [
    {
     "name": "stdout",
     "output_type": "stream",
     "text": [
      "            date  month  season\n",
      "0     1957-07-01      7  Sommer\n",
      "1     1957-07-02      7  Sommer\n",
      "2     1957-07-03      7  Sommer\n",
      "3     1957-07-04      7  Sommer\n",
      "4     1957-07-05      7  Sommer\n",
      "...          ...    ...     ...\n",
      "24216 2023-09-01      9  Herbst\n",
      "24217 2023-09-02      9  Herbst\n",
      "24218 2023-09-03      9  Herbst\n",
      "24219 2023-09-04      9  Herbst\n",
      "24220 2023-09-05      9  Herbst\n",
      "\n",
      "[27635763 rows x 3 columns]\n"
     ]
    }
   ],
   "source": [
    "# Funktion zur Bestimmung der Jahreszeit anhand des Monats\n",
    "def saison_bestimmen(monat):\n",
    "    if monat in [12, 1, 2]:\n",
    "        return \"Winter\"\n",
    "    elif monat in [6, 7, 8]:\n",
    "        return \"Sommer\"\n",
    "    elif monat in [3, 4, 5]:\n",
    "        return \"Frühling\"\n",
    "    else:\n",
    "        return \"Herbst\"\n",
    "\n",
    "df[\"month\"] = df[\"date\"].dt.month\n",
    "# Jahreszeit zuweisen\n",
    "df[\"season\"] = df[\"month\"].apply(saison_bestimmen)\n",
    "\n",
    "# Überprüfen der ersten Zeilen, um sicherzustellen, dass die Jahreszeit korrekt zugewiesen wird\n",
    "print(df[[\"date\", \"month\", \"season\"]].head())\n"
   ]
  },
  {
   "cell_type": "code",
   "execution_count": 64,
   "id": "26578750",
   "metadata": {},
   "outputs": [
    {
     "name": "stdout",
     "output_type": "stream",
     "text": [
      "Sommer - Mittelwert: 69.3080161592073, Median: 71.6, Std: 14.417791343490325\n",
      "Winter - Mittelwert: 49.950662050103375, Median: 50.90878009978722, Std: 25.400684321373124\n"
     ]
    }
   ],
   "source": [
    "# Sommer- und Winterdaten filtern\n",
    "summer_data = df[df['season'] == 'Sommer']\n",
    "winter_data = df[df['season'] == 'Winter']\n",
    "\n",
    "# Mittelwerte für Sommer und Winter berechnen\n",
    "summer_mean = summer_data['avg_temp_c'].mean()\n",
    "winter_mean = winter_data['avg_temp_c'].mean()\n",
    "\n",
    "# Median und Standardabweichung für Sommer und Winter\n",
    "summer_median = summer_data['avg_temp_c'].median()\n",
    "winter_median = winter_data['avg_temp_c'].median()\n",
    "\n",
    "summer_std = summer_data['avg_temp_c'].std()\n",
    "winter_std = winter_data['avg_temp_c'].std()\n",
    "\n",
    "# Ausgabe der Ergebnisse\n",
    "print(f\"Sommer - Mittelwert: {summer_mean}, Median: {summer_median}, Std: {summer_std}\")\n",
    "print(f\"Winter - Mittelwert: {winter_mean}, Median: {winter_median}, Std: {winter_std}\")\n"
   ]
  },
  {
   "cell_type": "code",
   "execution_count": 69,
   "id": "907b75dc",
   "metadata": {},
   "outputs": [
    {
     "data": {
      "image/png": "[encoded data removed]",
      "text/plain": [
       "<Figure size 800x600 with 1 Axes>"
      ]
     },
     "metadata": {},
     "output_type": "display_data"
    }
   ],
   "source": [
    "import matplotlib.pyplot as plt\n",
    "\n",
    "# Mittelwerte für Sommer und Winter\n",
    "seasons = ['Sommer', 'Winter']\n",
    "means = [summer_mean, winter_mean]\n",
    "\n",
    "# Balkendiagramm plotten\n",
    "plt.figure(figsize=(8, 6))\n",
    "plt.bar(seasons, means, color=['orange', 'blue'])\n",
    "plt.title('Durchschnittstemperatur: Sommer vs. Winter')\n",
    "plt.ylabel('Mittelwert Temperatur (°C)')\n",
    "plt.xlabel('Saison')\n",
    "plt.show()\n"
   ]
  },
  {
   "cell_type": "code",
   "execution_count": 70,
   "id": "dca13fb0",
   "metadata": {},
   "outputs": [
    {
     "data": {
      "image/png": "[encoded data removed]",
      "text/plain": [
       "<Figure size 1000x600 with 1 Axes>"
      ]
     },
     "metadata": {},
     "output_type": "display_data"
    }
   ],
   "source": [
    "# Mittelwert der Temperatur für jeden Monat berechnen\n",
    "monthly_avg = df.groupby('month')['avg_temp_c'].mean()\n",
    "\n",
    "# Liniendiagramm plotten\n",
    "plt.figure(figsize=(10, 6))\n",
    "monthly_avg.plot(kind='line', marker='o', color='b')\n",
    "plt.title('Monatliche Durchschnittstemperaturen')\n",
    "plt.ylabel('Durchschnittstemperatur (°C)')\n",
    "plt.xlabel('Monat')\n",
    "plt.xticks(range(1, 13))  # Monate von 1 bis 12\n",
    "plt.grid(True)\n",
    "plt.show()\n"
   ]
  }
 ],
 "metadata": {
  "kernelspec": {
   "display_name": "Python 3",
   "language": "python",
   "name": "python3"
  },
  "language_info": {
   "codemirror_mode": {
    "name": "ipython",
    "version": 3
   },
   "file_extension": ".py",
   "mimetype": "text/x-python",
   "name": "python",
   "nbconvert_exporter": "python",
   "pygments_lexer": "ipython3",
   "version": "3.13.1"
  }
 },
 "nbformat": 4,
 "nbformat_minor": 5
}

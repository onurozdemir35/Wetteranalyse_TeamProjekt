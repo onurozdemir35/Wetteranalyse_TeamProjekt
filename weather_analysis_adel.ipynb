{
 "cells": [
  {
   "cell_type": "markdown",
   "id": "56bbd60b",
   "metadata": {},
   "source": [
    "# ** Weather Data Analysis **"
   ]
  },
  {
   "cell_type": "markdown",
   "id": "233abb04",
   "metadata": {},
   "source": [
    "## 1. Historische Wetterdaten müssen aus einer CSV-Datei geladen werden"
   ]
  },
  {
   "cell_type": "code",
   "execution_count": 1,
   "id": "4d56cb39",
   "metadata": {},
   "outputs": [
    {
     "name": "stdout",
     "output_type": "stream",
     "text": [
      "daten (erste 5 Zeilen):\n",
      "  station_id city_name       date  season  avg_temp_c  min_temp_c  max_temp_c  \\\n",
      "0      41515  Asadabad 1957-07-01  Summer        27.0        21.1        35.6   \n",
      "1      41515  Asadabad 1957-07-02  Summer        22.8        18.9        32.2   \n",
      "2      41515  Asadabad 1957-07-03  Summer        24.3        16.7        35.6   \n",
      "3      41515  Asadabad 1957-07-04  Summer        26.6        16.1        37.8   \n",
      "4      41515  Asadabad 1957-07-05  Summer        30.8        20.0        41.7   \n",
      "\n",
      "   precipitation_mm  snow_depth_mm  avg_wind_dir_deg  avg_wind_speed_kmh  \\\n",
      "0               0.0            NaN               NaN                 NaN   \n",
      "1               0.0            NaN               NaN                 NaN   \n",
      "2               1.0            NaN               NaN                 NaN   \n",
      "3               4.1            NaN               NaN                 NaN   \n",
      "4               0.0            NaN               NaN                 NaN   \n",
      "\n",
      "   peak_wind_gust_kmh  avg_sea_level_pres_hpa  sunshine_total_min  \n",
      "0                 NaN                     NaN                 NaN  \n",
      "1                 NaN                     NaN                 NaN  \n",
      "2                 NaN                     NaN                 NaN  \n",
      "3                 NaN                     NaN                 NaN  \n",
      "4                 NaN                     NaN                 NaN  \n"
     ]
    }
   ],
   "source": [
    "import pandas as pd\n",
    "import numpy as np\n",
    "\n",
    "\n",
    "#data lesen\n",
    "df = pd.read_parquet(\"daily_weather.parquet\")\n",
    "\n",
    "# daten anzeigen\n",
    "print(\"daten (erste 5 Zeilen):\")\n",
    "print(df.head())"
   ]
  },
  {
   "cell_type": "markdown",
   "id": "45907dfd",
   "metadata": {},
   "source": [
    "## 2. Alle Datumswerte sind korrekt zu interpretieren und zu standardisieren"
   ]
  },
  {
   "cell_type": "code",
   "execution_count": 2,
   "id": "efba3e13",
   "metadata": {},
   "outputs": [],
   "source": [
    "#  Datum standardisieren \n",
    "df['date'] = pd.to_datetime(df['date'], errors='coerce').dt.strftime('%Y-%m-%d')"
   ]
  },
  {
   "cell_type": "code",
   "execution_count": 4,
   "id": "8d709b2e",
   "metadata": {},
   "outputs": [
    {
     "name": "stdout",
     "output_type": "stream",
     "text": [
      "\n",
      "Fehlende Werte pro Spalte:\n",
      "station_id                       0\n",
      "city_name                    13993\n",
      "date                             0\n",
      "season                           0\n",
      "avg_temp_c                 6230907\n",
      "min_temp_c                 5718229\n",
      "max_temp_c                 5539346\n",
      "precipitation_mm           6642500\n",
      "snow_depth_mm             24208615\n",
      "avg_wind_dir_deg          24183195\n",
      "avg_wind_speed_kmh        22350295\n",
      "peak_wind_gust_kmh        26514277\n",
      "avg_sea_level_pres_hpa    23618606\n",
      "sunshine_total_min        26614302\n",
      "dtype: int64\n"
     ]
    }
   ],
   "source": [
    "print(\"\\nFehlende Werte pro Spalte:\")\n",
    "print(df.isnull().sum())"
   ]
  },
  {
   "cell_type": "markdown",
   "id": "a9b6e066",
   "metadata": {},
   "source": [
    "## 3.Fehlende oder fehlerhafte Wetterdaten sollen erkannt und bereinigt werden. "
   ]
  },
  {
   "cell_type": "code",
   "execution_count": 5,
   "id": "50d34adf",
   "metadata": {},
   "outputs": [
    {
     "name": "stdout",
     "output_type": "stream",
     "text": [
      "\n",
      "Fehlerhafte Temperaturwerte:\n",
      "      station_id city_name        date  season  avg_temp_c  min_temp_c  \\\n",
      "5202       38954  Fayzabad  1914-02-28  Winter        -3.3        -3.2   \n",
      "6228       38954  Fayzabad  1916-12-20  Winter        -5.6        -4.5   \n",
      "6229       38954  Fayzabad  1916-12-21  Winter        -6.3        -2.4   \n",
      "6230       38954  Fayzabad  1916-12-22  Winter        -5.9        -1.9   \n",
      "6231       38954  Fayzabad  1916-12-23  Winter        -5.8        -2.1   \n",
      "...          ...       ...         ...     ...         ...         ...   \n",
      "9693       67975  Masvingo  1979-12-04  Summer        19.5        20.6   \n",
      "10330      67975  Masvingo  1981-09-01  Spring        13.4        12.8   \n",
      "10548      67975  Masvingo  1982-04-07  Autumn        29.4        13.4   \n",
      "11114      67975  Masvingo  1983-10-25  Spring        17.4        18.1   \n",
      "12709      67975  Masvingo  1988-03-07  Autumn        19.7        19.9   \n",
      "\n",
      "       max_temp_c  precipitation_mm  snow_depth_mm  avg_wind_dir_deg  \\\n",
      "5202          4.4               0.0            NaN               NaN   \n",
      "6228          NaN               0.0            NaN               NaN   \n",
      "6229          NaN               0.0            NaN               NaN   \n",
      "6230          NaN               0.0            NaN               NaN   \n",
      "6231          NaN               0.0            NaN               NaN   \n",
      "...           ...               ...            ...               ...   \n",
      "9693         22.7              14.0            NaN               NaN   \n",
      "10330        13.2               5.8            NaN               NaN   \n",
      "10548        29.2               0.0            NaN               NaN   \n",
      "11114        18.5               5.7            NaN               NaN   \n",
      "12709        21.3               2.1            NaN               NaN   \n",
      "\n",
      "       avg_wind_speed_kmh  peak_wind_gust_kmh  avg_sea_level_pres_hpa  \\\n",
      "5202                  NaN                 NaN                     NaN   \n",
      "6228                  NaN                 NaN                     NaN   \n",
      "6229                  NaN                 NaN                     NaN   \n",
      "6230                  NaN                 NaN                     NaN   \n",
      "6231                  NaN                 NaN                     NaN   \n",
      "...                   ...                 ...                     ...   \n",
      "9693                  NaN                 NaN                     NaN   \n",
      "10330                 NaN                 NaN                     NaN   \n",
      "10548                 NaN                 NaN                     NaN   \n",
      "11114                 NaN                 NaN                     NaN   \n",
      "12709                 NaN                 NaN                     NaN   \n",
      "\n",
      "       sunshine_total_min  \n",
      "5202                  NaN  \n",
      "6228                  NaN  \n",
      "6229                  NaN  \n",
      "6230                  NaN  \n",
      "6231                  NaN  \n",
      "...                   ...  \n",
      "9693                  NaN  \n",
      "10330                 NaN  \n",
      "10548                 NaN  \n",
      "11114                 NaN  \n",
      "12709                 NaN  \n",
      "\n",
      "[37913 rows x 14 columns]\n",
      "\n",
      "Fehlerhafte Niederschlagswerte:\n",
      "Empty DataFrame\n",
      "Columns: [station_id, city_name, date, season, avg_temp_c, min_temp_c, max_temp_c, precipitation_mm, snow_depth_mm, avg_wind_dir_deg, avg_wind_speed_kmh, peak_wind_gust_kmh, avg_sea_level_pres_hpa, sunshine_total_min]\n",
      "Index: []\n"
     ]
    }
   ],
   "source": [
    "# Fehlerhafte Werte erkennen\n",
    "# Annahmen für Fehler:\n",
    "# - Temperaturen: min_temp_c < -50 oder max_temp_c > 50 sind unrealistisch\n",
    "# - avg_temp_c sollte zwischen min_temp_c und max_temp_c liegen\n",
    "# - Niederschlag: precipitation_mm < 0 ist ungültig\n",
    "temp_errors = df[(df['min_temp_c'] < -50) | (df['max_temp_c'] > 50) | \n",
    "                 (df['avg_temp_c'] < -50) | (df['avg_temp_c'] > 50) |\n",
    "                 (df['avg_temp_c'] < df['min_temp_c']) | (df['avg_temp_c'] > df['max_temp_c'])]\n",
    "precip_errors = df[df['precipitation_mm'] < 0]\n",
    "\n",
    "print(\"\\nFehlerhafte Temperaturwerte:\")\n",
    "print(temp_errors)\n",
    "print(\"\\nFehlerhafte Niederschlagswerte:\")\n",
    "print(precip_errors)"
   ]
  },
  {
   "cell_type": "code",
   "execution_count": 6,
   "id": "8b467065",
   "metadata": {},
   "outputs": [],
   "source": [
    "# Daten bereinigen\n",
    "# Fehlerhafte Werte zu NaN setzen\n",
    "df['avg_temp_c'] = np.where((df['avg_temp_c'] < -50) | (df['avg_temp_c'] > 50) | \n",
    "                            (df['avg_temp_c'] < df['min_temp_c']) | (df['avg_temp_c'] > df['max_temp_c']), \n",
    "                            np.nan, df['avg_temp_c'])\n",
    "df['min_temp_c'] = np.where(df['min_temp_c'] < -50, np.nan, df['min_temp_c'])\n",
    "df['max_temp_c'] = np.where(df['max_temp_c'] > 50, np.nan, df['max_temp_c'])\n",
    "df['precipitation_mm'] = np.where(df['precipitation_mm'] < 0, np.nan, df['precipitation_mm'])\n",
    "\n",
    "# Fehlende Werte interpolieren\n",
    "df['avg_temp_c'] = df['avg_temp_c'].interpolate(method='linear')\n",
    "df['min_temp_c'] = df['min_temp_c'].interpolate(method='linear')\n",
    "df['max_temp_c'] = df['max_temp_c'].interpolate(method='linear')\n",
    "df['precipitation_mm'] = df['precipitation_mm'].interpolate(method='linear')"
   ]
  },
  {
   "cell_type": "code",
   "execution_count": 7,
   "id": "f40ca2fc",
   "metadata": {},
   "outputs": [
    {
     "name": "stdout",
     "output_type": "stream",
     "text": [
      "\n",
      "Bereinigte Daten :\n",
      "  station_id city_name        date  season  avg_temp_c  min_temp_c  \\\n",
      "0      41515  Asadabad  1957-07-01  Summer        27.0        21.1   \n",
      "1      41515  Asadabad  1957-07-02  Summer        22.8        18.9   \n",
      "2      41515  Asadabad  1957-07-03  Summer        24.3        16.7   \n",
      "3      41515  Asadabad  1957-07-04  Summer        26.6        16.1   \n",
      "4      41515  Asadabad  1957-07-05  Summer        30.8        20.0   \n",
      "\n",
      "   max_temp_c  precipitation_mm  snow_depth_mm  avg_wind_dir_deg  \\\n",
      "0        35.6               0.0            NaN               NaN   \n",
      "1        32.2               0.0            NaN               NaN   \n",
      "2        35.6               1.0            NaN               NaN   \n",
      "3        37.8               4.1            NaN               NaN   \n",
      "4        41.7               0.0            NaN               NaN   \n",
      "\n",
      "   avg_wind_speed_kmh  peak_wind_gust_kmh  avg_sea_level_pres_hpa  \\\n",
      "0                 NaN                 NaN                     NaN   \n",
      "1                 NaN                 NaN                     NaN   \n",
      "2                 NaN                 NaN                     NaN   \n",
      "3                 NaN                 NaN                     NaN   \n",
      "4                 NaN                 NaN                     NaN   \n",
      "\n",
      "   sunshine_total_min  \n",
      "0                 NaN  \n",
      "1                 NaN  \n",
      "2                 NaN  \n",
      "3                 NaN  \n",
      "4                 NaN  \n"
     ]
    }
   ],
   "source": [
    "# Bereinigte Daten anzeigen\n",
    "print(\"\\nBereinigte Daten :\")\n",
    "print(df.head())\n"
   ]
  },
  {
   "cell_type": "markdown",
   "id": "9ecf21bb",
   "metadata": {},
   "source": [
    "## 4. Temperaturen ggf. in Celsius (oder andere Einheiten) umrechnen."
   ]
  },
  {
   "cell_type": "code",
   "execution_count": 8,
   "id": "bb197c4b",
   "metadata": {},
   "outputs": [],
   "source": [
    "# Temperaturen ggf. in eine andere Einheit umrechnen\n",
    "# Annahme: Daten sind aktuell in Celsius, Ziel ist z. B. Fahrenheit\n",
    "aktuelle_einheit = \"celsius\"  \n",
    "ziel_einheit = \"fahrenheit\"  \n",
    "\n",
    "# Umrechnungsfunktionen definieren\n",
    "def celsius_zu_fahrenheit(c):\n",
    "    return (c * 9/5) + 32\n",
    "\n",
    "def fahrenheit_zu_celsius(f):\n",
    "    return (f - 32) * 5/9"
   ]
  },
  {
   "cell_type": "code",
   "execution_count": 9,
   "id": "62f4ecb3",
   "metadata": {},
   "outputs": [
    {
     "name": "stdout",
     "output_type": "stream",
     "text": [
      "\n",
      "Temperaturen von celsius nach fahrenheit umgerechnet.\n"
     ]
    }
   ],
   "source": [
    "# Umrechnung durchführen\n",
    "if aktuelle_einheit.lower() != ziel_einheit.lower():\n",
    "    if ziel_einheit.lower() == \"fahrenheit\" and aktuelle_einheit.lower() == \"celsius\":\n",
    "        df['avg_temp_c'] = df['avg_temp_c'].apply(celsius_zu_fahrenheit)\n",
    "        df['min_temp_c'] = df['min_temp_c'].apply(celsius_zu_fahrenheit)\n",
    "        df['max_temp_c'] = df['max_temp_c'].apply(celsius_zu_fahrenheit)\n",
    "        # Spalten umbenennen\n",
    "        #df = df.rename(columns={\n",
    "         #   'avg_temp_c': 'avg_temp_f',\n",
    "         #   'min_temp_c': 'min_temp_f',\n",
    "         #   'max_temp_c': 'max_temp_f'\n",
    "        #})\n",
    "        print(f\"\\nTemperaturen von {aktuelle_einheit} nach {ziel_einheit} umgerechnet.\")\n",
    "    elif ziel_einheit.lower() == \"celsius\" and aktuelle_einheit.lower() == \"fahrenheit\":\n",
    "        df['avg_temp_c'] = df['avg_temp_c'].apply(fahrenheit_zu_celsius)\n",
    "        df['min_temp_c'] = df['min_temp_c'].apply(fahrenheit_zu_celsius)\n",
    "        df['max_temp_c'] = df['max_temp_c'].apply(fahrenheit_zu_celsius)\n",
    "        print(f\"\\nTemperaturen von {aktuelle_einheit} nach {ziel_einheit} umgerechnet.\")\n",
    "    else:\n",
    "        print(\"\\nFehler: Ungültige Einheitenkombination.\")\n",
    "else:\n",
    "    print(f\"\\nKeine Umrechnung nötig, Daten sind bereits in {aktuelle_einheit}.\")"
   ]
  },
  {
   "cell_type": "code",
   "execution_count": 11,
   "id": "1dd53c13",
   "metadata": {},
   "outputs": [
    {
     "name": "stdout",
     "output_type": "stream",
     "text": [
      "\n",
      "Bereinigte und umgerechnete Daten :\n",
      "  station_id city_name        date  season  avg_temp_c  min_temp_c  \\\n",
      "0      41515  Asadabad  1957-07-01  Summer       80.60       69.98   \n",
      "1      41515  Asadabad  1957-07-02  Summer       73.04       66.02   \n",
      "2      41515  Asadabad  1957-07-03  Summer       75.74       62.06   \n",
      "3      41515  Asadabad  1957-07-04  Summer       79.88       60.98   \n",
      "4      41515  Asadabad  1957-07-05  Summer       87.44       68.00   \n",
      "\n",
      "   max_temp_c  precipitation_mm  snow_depth_mm  avg_wind_dir_deg  \\\n",
      "0       96.08               0.0            NaN               NaN   \n",
      "1       89.96               0.0            NaN               NaN   \n",
      "2       96.08               1.0            NaN               NaN   \n",
      "3      100.04               4.1            NaN               NaN   \n",
      "4      107.06               0.0            NaN               NaN   \n",
      "\n",
      "   avg_wind_speed_kmh  peak_wind_gust_kmh  avg_sea_level_pres_hpa  \\\n",
      "0                 NaN                 NaN                     NaN   \n",
      "1                 NaN                 NaN                     NaN   \n",
      "2                 NaN                 NaN                     NaN   \n",
      "3                 NaN                 NaN                     NaN   \n",
      "4                 NaN                 NaN                     NaN   \n",
      "\n",
      "   sunshine_total_min  \n",
      "0                 NaN  \n",
      "1                 NaN  \n",
      "2                 NaN  \n",
      "3                 NaN  \n",
      "4                 NaN  \n"
     ]
    }
   ],
   "source": [
    "print(\"\\nBereinigte und umgerechnete Daten :\")\n",
    "print(df.head())"
   ]
  },
  {
   "cell_type": "markdown",
   "id": "971e7c25",
   "metadata": {},
   "source": [
    "## 5. Berechnung der täglichen Durchschnittstemperaturen."
   ]
  },
  {
   "cell_type": "code",
   "execution_count": 12,
   "id": "a7000405",
   "metadata": {},
   "outputs": [
    {
     "name": "stdout",
     "output_type": "stream",
     "text": [
      "  station_id city_name        date  season  avg_temp_c  min_temp_c  \\\n",
      "0      41515  Asadabad  1957-07-01  Summer       80.60       69.98   \n",
      "1      41515  Asadabad  1957-07-02  Summer       73.04       66.02   \n",
      "2      41515  Asadabad  1957-07-03  Summer       75.74       62.06   \n",
      "3      41515  Asadabad  1957-07-04  Summer       79.88       60.98   \n",
      "4      41515  Asadabad  1957-07-05  Summer       87.44       68.00   \n",
      "\n",
      "   max_temp_c  precipitation_mm  snow_depth_mm  avg_wind_dir_deg  \\\n",
      "0       96.08               0.0            NaN               NaN   \n",
      "1       89.96               0.0            NaN               NaN   \n",
      "2       96.08               1.0            NaN               NaN   \n",
      "3      100.04               4.1            NaN               NaN   \n",
      "4      107.06               0.0            NaN               NaN   \n",
      "\n",
      "   avg_wind_speed_kmh  peak_wind_gust_kmh  avg_sea_level_pres_hpa  \\\n",
      "0                 NaN                 NaN                     NaN   \n",
      "1                 NaN                 NaN                     NaN   \n",
      "2                 NaN                 NaN                     NaN   \n",
      "3                 NaN                 NaN                     NaN   \n",
      "4                 NaN                 NaN                     NaN   \n",
      "\n",
      "   sunshine_total_min  tag_avg_temp_c  \n",
      "0                 NaN           83.03  \n",
      "1                 NaN           77.99  \n",
      "2                 NaN           79.07  \n",
      "3                 NaN           80.51  \n",
      "4                 NaN           87.53  \n"
     ]
    }
   ],
   "source": [
    "#Berechnung der täglichen Durchschnittstemperaturen\n",
    "# Neue Spalte mit Durchschnitt aus min_temp_f und max_temp_f berechnen\n",
    "df['tag_avg_temp_c'] = (df['min_temp_c'] + df['max_temp_c']) / 2\n",
    "\n",
    "print(df.head())"
   ]
  },
  {
   "cell_type": "markdown",
   "id": "1681c082",
   "metadata": {},
   "source": [
    "## 6. Identikation von Maximal- und Minimaltemperaturen.\n"
   ]
  },
  {
   "cell_type": "code",
   "execution_count": 13,
   "id": "c1069e36",
   "metadata": {},
   "outputs": [
    {
     "name": "stdout",
     "output_type": "stream",
     "text": [
      "max_temp : 122.0 fahrenheit\n",
      "min_temp :  -58.0 fahrenheit\n"
     ]
    }
   ],
   "source": [
    "# Identifikation von Maximal- und Minimaltemperaturen\n",
    "global_max_temp = df['max_temp_c'].max()\n",
    "global_min_temp = df['min_temp_c'].min()\n",
    "\n",
    "print (\"max_temp :\", global_max_temp , ziel_einheit )\n",
    "print (\"min_temp : \", global_min_temp ,   ziel_einheit)"
   ]
  },
  {
   "cell_type": "markdown",
   "id": "77e8ce7d",
   "metadata": {},
   "source": [
    "## Berechnung von Mittelwert, Median und Standardabweichung für verschiedene Parameter"
   ]
  },
  {
   "cell_type": "code",
   "execution_count": 13,
   "id": "3bfb5028",
   "metadata": {},
   "outputs": [
    {
     "name": "stdout",
     "output_type": "stream",
     "text": [
      "\n",
      "Globale Statistiken (Mittelwert, Median, Standardabweichung):\n",
      "        avg_temp_c  min_temp_c  max_temp_c  precipitation_mm\n",
      "mean         60.05       50.76       69.11              3.47\n",
      "median       63.14       53.06       73.58              0.00\n",
      "std          20.87       20.64       22.28             12.07\n",
      "\n",
      "Tägliche Statistiken :\n",
      "           avg_temp_c               min_temp_c               max_temp_c  \\\n",
      "                 mean median    std       mean median    std       mean   \n",
      "date                                                                      \n",
      "1750-02-01      65.32  61.88  13.21      68.82  67.46   8.33      86.52   \n",
      "1750-02-02      65.32  61.88  13.20      70.52  68.18   8.10      86.08   \n",
      "1750-02-03      65.33  61.88  13.20      65.88  64.94  11.41      80.40   \n",
      "1750-02-04      63.37  58.82  12.64      62.53  62.78   9.55      80.02   \n",
      "1750-02-05      65.33  61.87  13.19      66.28  66.38  10.56      81.34   \n",
      "\n",
      "                         precipitation_mm                \n",
      "           median    std             mean median    std  \n",
      "date                                                     \n",
      "1750-02-01  83.30  10.09             0.00    0.0   0.00  \n",
      "1750-02-02  85.82   9.45             0.00    0.0   0.00  \n",
      "1750-02-03  82.22   9.68             0.49    0.0   1.02  \n",
      "1750-02-04  84.11  10.90             4.62    0.0  13.00  \n",
      "1750-02-05  86.54  12.31             0.49    0.0   0.95  \n"
     ]
    }
   ],
   "source": [
    "# Berechnung von Mittelwert, Median und Standardabweichung für verschiedene Parameter\n",
    "# Ausgewählte Parameter\n",
    "parameters = ['avg_temp_c', 'min_temp_c', 'max_temp_c', 'precipitation_mm']\n",
    "\n",
    "# Globale Statistiken (über alle Daten)\n",
    "global_stats = df[parameters].agg(['mean', 'median', 'std']).round(2)\n",
    "\n",
    "print(\"\\nGlobale Statistiken (Mittelwert, Median, Standardabweichung):\")\n",
    "print(global_stats)\n",
    "\n",
    "# Tägliche Statistiken (pro Tag über alle Stationen)\n",
    "daily_stats = df.groupby('date')[parameters].agg(['mean', 'median', 'std']).round(2)\n",
    "\n",
    "print(\"\\nTägliche Statistiken :\")\n",
    "print(daily_stats.head())"
   ]
  },
  {
   "cell_type": "code",
   "execution_count": 16,
   "id": "afff8ece",
   "metadata": {},
   "outputs": [
    {
     "name": "stdout",
     "output_type": "stream",
     "text": [
      "\n",
      "Statistiken für das Jahr 1957 (Mittelwert, Median, Standardabweichung):\n",
      "        avg_temp_c  min_temp_c  max_temp_c  precipitation_mm\n",
      "mean           NaN         NaN         NaN               NaN\n",
      "median         NaN         NaN         NaN               NaN\n",
      "std            NaN         NaN         NaN               NaN\n"
     ]
    }
   ],
   "source": [
    "#Filter für ein bestimmtes Jahr (z. B. 1957)\n",
    "year_filter = 1957\n",
    "df_year = df[df['date'] == year_filter]\n",
    "year_stats = df_year[parameters].agg(['mean', 'median', 'std']).round(2)\n",
    "\n",
    "print(f\"\\nStatistiken für das Jahr {year_filter} (Mittelwert, Median, Standardabweichung):\")\n",
    "print(year_stats)"
   ]
  },
  {
   "cell_type": "markdown",
   "id": "2c6ed81b",
   "metadata": {},
   "source": [
    "## <span style=\"color:red\">muss morgen darüber diskutieren wegen NaN werte !</span>\n",
    " "
   ]
  },
  {
   "cell_type": "code",
   "execution_count": null,
   "id": "fbe46109",
   "metadata": {},
   "outputs": [
    {
     "name": "stdout",
     "output_type": "stream",
     "text": [
      "\n",
      "Statistiken für die Saison 'Summer' (Mittelwert, Median, Standardabweichung):\n",
      "        avg_temp_c  min_temp_c  max_temp_c  precipitation_mm\n",
      "mean         70.48       62.24       81.14              4.36\n",
      "median       73.04       62.96       83.66              0.00\n",
      "std          13.99       12.51       14.04             13.71\n"
     ]
    }
   ],
   "source": [
    "# Filter für eine bestimmte Saison (z. B. \"Summer\")\n",
    "season_filter = \"Summer\"\n",
    "df_season = df[df['season'] == season_filter]\n",
    "season_stats = df_season[parameters].agg(['mean', 'median', 'std']).round(2)\n",
    "\n",
    "print(f\"\\nStatistiken für die Saison '{season_filter}' (Mittelwert, Median, Standardabweichung):\")\n",
    "print(season_stats)"
   ]
  },
  {
   "cell_type": "markdown",
   "id": "1d6a465a",
   "metadata": {},
   "source": []
  }
 ],
 "metadata": {
  "kernelspec": {
   "display_name": "Python 3",
   "language": "python",
   "name": "python3"
  },
  "language_info": {
   "codemirror_mode": {
    "name": "ipython",
    "version": 3
   },
   "file_extension": ".py",
   "mimetype": "text/x-python",
   "name": "python",
   "nbconvert_exporter": "python",
   "pygments_lexer": "ipython3",
   "version": "3.10.16"
  }
 },
 "nbformat": 4,
 "nbformat_minor": 5
}

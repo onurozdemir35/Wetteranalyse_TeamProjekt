{
 "cells": [
  {
   "cell_type": "markdown",
   "id": "56bbd60b",
   "metadata": {},
   "source": [
    "# ** Weather Data Analysis **"
   ]
  },
  {
   "cell_type": "markdown",
   "id": "233abb04",
   "metadata": {},
   "source": [
    "## 1. Historische Wetterdaten müssen aus einer CSV-Datei geladen werden"
   ]
  },
  {
   "cell_type": "code",
   "execution_count": 1,
   "id": "4d56cb39",
   "metadata": {},
   "outputs": [
    {
     "name": "stdout",
     "output_type": "stream",
     "text": [
      "daten (erste 5 Zeilen):\n",
      "  station_id city_name       date  season  avg_temp_c  min_temp_c  max_temp_c  \\\n",
      "0      41515  Asadabad 1957-07-01  Summer        27.0        21.1        35.6   \n",
      "1      41515  Asadabad 1957-07-02  Summer        22.8        18.9        32.2   \n",
      "2      41515  Asadabad 1957-07-03  Summer        24.3        16.7        35.6   \n",
      "3      41515  Asadabad 1957-07-04  Summer        26.6        16.1        37.8   \n",
      "4      41515  Asadabad 1957-07-05  Summer        30.8        20.0        41.7   \n",
      "\n",
      "   precipitation_mm  snow_depth_mm  avg_wind_dir_deg  avg_wind_speed_kmh  \\\n",
      "0               0.0            NaN               NaN                 NaN   \n",
      "1               0.0            NaN               NaN                 NaN   \n",
      "2               1.0            NaN               NaN                 NaN   \n",
      "3               4.1            NaN               NaN                 NaN   \n",
      "4               0.0            NaN               NaN                 NaN   \n",
      "\n",
      "   peak_wind_gust_kmh  avg_sea_level_pres_hpa  sunshine_total_min  \n",
      "0                 NaN                     NaN                 NaN  \n",
      "1                 NaN                     NaN                 NaN  \n",
      "2                 NaN                     NaN                 NaN  \n",
      "3                 NaN                     NaN                 NaN  \n",
      "4                 NaN                     NaN                 NaN  \n"
     ]
    }
   ],
   "source": [
    "import pandas as pd\n",
    "import numpy as np\n",
    "\n",
    "\n",
    "#data lesen\n",
    "df = pd.read_parquet(\"daily_weather.parquet\")\n",
    "\n",
    "# daten anzeigen\n",
    "print(\"daten (erste 5 Zeilen):\")\n",
    "print(df.head())"
   ]
  },
  {
   "cell_type": "markdown",
   "id": "45907dfd",
   "metadata": {},
   "source": [
    "## 2. Alle Datumswerte sind korrekt zu interpretieren und zu standardisieren"
   ]
  },
  {
   "cell_type": "code",
   "execution_count": 2,
   "id": "efba3e13",
   "metadata": {},
   "outputs": [],
   "source": [
    "#  Datum standardisieren \n",
    "df['date'] = pd.to_datetime(df['date'], errors='coerce').dt.strftime('%Y-%m-%d')"
   ]
  },
  {
   "cell_type": "code",
   "execution_count": 4,
   "id": "8d709b2e",
   "metadata": {},
   "outputs": [
    {
     "name": "stdout",
     "output_type": "stream",
     "text": [
      "\n",
      "Fehlende Werte pro Spalte:\n",
      "station_id                       0\n",
      "city_name                    13993\n",
      "date                             0\n",
      "season                           0\n",
      "avg_temp_c                 6230907\n",
      "min_temp_c                 5718229\n",
      "max_temp_c                 5539346\n",
      "precipitation_mm           6642500\n",
      "snow_depth_mm             24208615\n",
      "avg_wind_dir_deg          24183195\n",
      "avg_wind_speed_kmh        22350295\n",
      "peak_wind_gust_kmh        26514277\n",
      "avg_sea_level_pres_hpa    23618606\n",
      "sunshine_total_min        26614302\n",
      "dtype: int64\n"
     ]
    }
   ],
   "source": [
    "print(\"\\nFehlende Werte pro Spalte:\")\n",
    "print(df.isnull().sum())"
   ]
  }
 ],
 "metadata": {
  "kernelspec": {
   "display_name": "Python 3",
   "language": "python",
   "name": "python3"
  },
  "language_info": {
   "codemirror_mode": {
    "name": "ipython",
    "version": 3
   },
   "file_extension": ".py",
   "mimetype": "text/x-python",
   "name": "python",
   "nbconvert_exporter": "python",
   "pygments_lexer": "ipython3",
   "version": "3.10.16"
  }
 },
 "nbformat": 4,
 "nbformat_minor": 5
}

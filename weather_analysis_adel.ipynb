{
 "cells": [
  {
   "cell_type": "markdown",
   "id": "56bbd60b",
   "metadata": {},
   "source": [
    "# ** Weather Data Analysis **"
   ]
  },
  {
   "cell_type": "markdown",
   "id": "233abb04",
   "metadata": {},
   "source": [
    "## 1. Historische Wetterdaten müssen aus einer CSV-Datei geladen werden"
   ]
  },
  {
   "cell_type": "code",
   "execution_count": 1,
   "id": "4d56cb39",
   "metadata": {},
   "outputs": [
    {
     "name": "stdout",
     "output_type": "stream",
     "text": [
      "daten (erste 5 Zeilen):\n",
      "  station_id city_name       date  season  avg_temp_c  min_temp_c  max_temp_c  \\\n",
      "0      41515  Asadabad 1957-07-01  Summer        27.0        21.1        35.6   \n",
      "1      41515  Asadabad 1957-07-02  Summer        22.8        18.9        32.2   \n",
      "2      41515  Asadabad 1957-07-03  Summer        24.3        16.7        35.6   \n",
      "3      41515  Asadabad 1957-07-04  Summer        26.6        16.1        37.8   \n",
      "4      41515  Asadabad 1957-07-05  Summer        30.8        20.0        41.7   \n",
      "\n",
      "   precipitation_mm  snow_depth_mm  avg_wind_dir_deg  avg_wind_speed_kmh  \\\n",
      "0               0.0            NaN               NaN                 NaN   \n",
      "1               0.0            NaN               NaN                 NaN   \n",
      "2               1.0            NaN               NaN                 NaN   \n",
      "3               4.1            NaN               NaN                 NaN   \n",
      "4               0.0            NaN               NaN                 NaN   \n",
      "\n",
      "   peak_wind_gust_kmh  avg_sea_level_pres_hpa  sunshine_total_min  \n",
      "0                 NaN                     NaN                 NaN  \n",
      "1                 NaN                     NaN                 NaN  \n",
      "2                 NaN                     NaN                 NaN  \n",
      "3                 NaN                     NaN                 NaN  \n",
      "4                 NaN                     NaN                 NaN  \n"
     ]
    }
   ],
   "source": [
    "import pandas as pd\n",
    "import numpy as np\n",
    "\n",
    "\n",
    "#data lesen\n",
    "df = pd.read_parquet(\"daily_weather.parquet\")\n",
    "\n",
    "# daten anzeigen\n",
    "print(\"daten (erste 5 Zeilen):\")\n",
    "print(df.head())"
   ]
  },
  {
   "cell_type": "code",
   "execution_count": null,
   "id": "f61d8fb0",
   "metadata": {},
   "outputs": [],
   "source": []
  }
 ],
 "metadata": {
  "kernelspec": {
   "display_name": "Python 3",
   "language": "python",
   "name": "python3"
  },
  "language_info": {
   "codemirror_mode": {
    "name": "ipython",
    "version": 3
   },
   "file_extension": ".py",
   "mimetype": "text/x-python",
   "name": "python",
   "nbconvert_exporter": "python",
   "pygments_lexer": "ipython3",
   "version": "3.10.16"
  }
 },
 "nbformat": 4,
 "nbformat_minor": 5
}

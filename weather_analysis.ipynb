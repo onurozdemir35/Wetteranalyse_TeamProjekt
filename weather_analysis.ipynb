{
 "cells": [
  {
   "cell_type": "code",
   "execution_count": null,
   "id": "24661e61-10e3-49d8-8cd1-a22a89fa513e",
   "metadata": {},
   "outputs": [],
   "source": [
    "# Installation der benötigten Bibliotheken\n",
    "%pip install pandas\n",
    "%pip install numpy\n",
    "%pip install matplotlib\n",
    "%pip install seaborn\n",
    "%pip install fastparquet"
   ]
  },
  {
   "cell_type": "code",
   "execution_count": null,
   "id": "0da165de",
   "metadata": {},
   "outputs": [],
   "source": [
    "# Import der benötigten Bibliotheken\n",
    "import pandas as pd\n",
    "import numpy as np\n",
    "import matplotlib.pyplot as plt \n",
    "import seaborn as sns"
   ]
  },
  {
   "cell_type": "code",
   "execution_count": null,
   "id": "d173e78c",
   "metadata": {},
   "outputs": [],
   "source": [
    "# CSV-Datei mit den Städten einlesen\n",
    "try:\n",
    "    cities = pd.read_csv(\"cities.csv\")\n",
    "except FileNotFoundError:\n",
    "    print(\"Fehler: Die Datei 'cities.csv' wurde nicht gefunden.\")\n",
    "    exit()\n",
    "\n",
    "# Zeige die ersten 5 Zeilen an\n",
    "print(\"Erste 5 Zeilen der Datei:\")\n",
    "print(cities.head())\n",
    "\n",
    "# Überblick über die Spalten und Datentypen\n",
    "print(\"Überblick über die Daten:\")\n",
    "print(cities.info())"
   ]
  },
  {
   "cell_type": "code",
   "execution_count": null,
   "id": "c6fc8bfe",
   "metadata": {},
   "outputs": [],
   "source": [
    "# CSV-Datei mit den Ländern einlesen\n",
    "try:\n",
    "    countries = pd.read_csv(\"countries.csv\")\n",
    "except FileNotFoundError:\n",
    "    print(\"Fehler: Die Datei 'countries.csv' wurde nicht gefunden.\")\n",
    "    exit()\n",
    "\n",
    "# Zeige die ersten 5 Zeilen an\n",
    "print(\"Erste 5 Zeilen der Datei:\")\n",
    "print(countries.head())\n",
    "\n",
    "# Überblick über die Spalten und Datentypen\n",
    "print(\"Überblick über die Daten:\")\n",
    "print(countries.info())"
   ]
  },
  {
   "cell_type": "code",
   "execution_count": null,
   "id": "9835a3f1",
   "metadata": {},
   "outputs": [],
   "source": [
    "# CSV-Datei mit den täglichen Wetter einlesen\n",
    "try:\n",
    "    daily_weater =  pd.read_parquet(\"daily_weather.parquet\", engine=\"fastparquet\")\n",
    "except FileNotFoundError:\n",
    "    print(\"Fehler: Die Datei 'daily_weather.parquet' wurde nicht gefunden.\")\n",
    "    exit()\n",
    "\n",
    "# Zeige die ersten 5 Zeilen an\n",
    "print(\"Erste 5 Zeilen der Datei:\")\n",
    "print(countries.head())\n",
    "\n",
    "# Überblick über die Spalten und Datentypen\n",
    "print(\"Überblick über die Daten:\")\n",
    "print(countries.info())"
   ]
  }
 ],
 "metadata": {
  "kernelspec": {
   "display_name": "Python [conda env:base] *",
   "language": "python",
   "name": "conda-base-py"
  },
  "language_info": {
   "codemirror_mode": {
    "name": "ipython",
    "version": 3
   },
   "file_extension": ".py",
   "mimetype": "text/x-python",
   "name": "python",
   "nbconvert_exporter": "python",
   "pygments_lexer": "ipython3",
   "version": "3.12.7"
  }
 },
 "nbformat": 4,
 "nbformat_minor": 5
}
